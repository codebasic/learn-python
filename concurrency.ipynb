{
 "cells": [
  {
   "cell_type": "code",
   "execution_count": 1,
   "metadata": {
    "collapsed": true
   },
   "outputs": [],
   "source": [
    "import multiprocessing\n",
    "import time"
   ]
  },
  {
   "cell_type": "code",
   "execution_count": 2,
   "metadata": {
    "collapsed": true
   },
   "outputs": [],
   "source": [
    "def clock(interval):\n",
    "    while 1:\n",
    "        print(\"Time: {0}\".format(time.ctime()))\n",
    "        time.sleep(interval)\n",
    "\n",
    "class ClockProcess(multiprocessing.Process):\n",
    "    def __init__(self, interval):\n",
    "        multiprocessing.Process.__init__(self)\n",
    "        self.interval = interval\n",
    "\n",
    "    def run(self):\n",
    "        while 1:\n",
    "            print(\"Time: {0}\".format(time.ctime()))\n",
    "            time.sleep(self.interval)"
   ]
  },
  {
   "cell_type": "code",
   "execution_count": 3,
   "metadata": {
    "collapsed": true
   },
   "outputs": [],
   "source": [
    "p = ClockProcess(15)\n",
    "p.start()"
   ]
  },
  {
   "cell_type": "code",
   "execution_count": null,
   "metadata": {
    "collapsed": true
   },
   "outputs": [],
   "source": []
  }
 ],
 "metadata": {
  "kernelspec": {
   "display_name": "Python 2",
   "language": "python",
   "name": "python2"
  },
  "language_info": {
   "codemirror_mode": {
    "name": "ipython",
    "version": 2
   },
   "file_extension": ".py",
   "mimetype": "text/x-python",
   "name": "python",
   "nbconvert_exporter": "python",
   "pygments_lexer": "ipython2",
   "version": "2.7.10"
  }
 },
 "nbformat": 4,
 "nbformat_minor": 0
}
