{
 "cells": [
  {
   "cell_type": "code",
   "execution_count": 2,
   "metadata": {
    "collapsed": true
   },
   "outputs": [],
   "source": [
    "from __future__ import print_function"
   ]
  },
  {
   "cell_type": "code",
   "execution_count": 1,
   "metadata": {
    "collapsed": false
   },
   "outputs": [
    {
     "name": "stdout",
     "output_type": "stream",
     "text": [
      "hello, world!\n"
     ]
    }
   ],
   "source": [
    "def hello_world():\n",
    "    msg = 'hello, world!'\n",
    "    return msg\n",
    "\n",
    "greeting = hello_world()\n",
    "print(greeting)"
   ]
  },
  {
   "cell_type": "code",
   "execution_count": 10,
   "metadata": {
    "collapsed": false
   },
   "outputs": [
    {
     "name": "stdout",
     "output_type": "stream",
     "text": [
      "Exit 1\n",
      "Exit 2\n",
      "그런 출구는 없습니다.\n"
     ]
    }
   ],
   "source": [
    "# return의 효과\n",
    "def many_exits(exit_no):\n",
    "    if exit_no==1:\n",
    "        return 'Exit 1'\n",
    "    if exit_no==2:\n",
    "        return 'Exit 2'\n",
    "    if exit_no==3:\n",
    "        return 'Exit 3'\n",
    "    \n",
    "    return '그런 출구는 없습니다.'\n",
    "\n",
    "print(many_exits(1))\n",
    "print(many_exits(2))\n",
    "print(many_exits(9))"
   ]
  },
  {
   "cell_type": "code",
   "execution_count": 3,
   "metadata": {
    "collapsed": false
   },
   "outputs": [
    {
     "name": "stdout",
     "output_type": "stream",
     "text": [
      "yrrebeulb 10\n",
      "이성주 님, 주문하신 음료 나왔습니다.\n"
     ]
    }
   ],
   "source": [
    "def juicer(ingredient='strawberry', name=None):\n",
    "    if name is not None:\n",
    "        print(u'{} 님, 주문하신 음료 나왔습니다.'.format(name))\n",
    "    processed = ingredient[::-1]\n",
    "    check_total = 10\n",
    "    return processed, check_total\n",
    "\n",
    "juice, bill = juicer('blueberry')\n",
    "print(juice, bill)\n",
    "juice, bill = juicer('orange', u'이성주')"
   ]
  },
  {
   "cell_type": "markdown",
   "metadata": {},
   "source": [
    "두 개 이상의 결과 반환(return)"
   ]
  },
  {
   "cell_type": "code",
   "execution_count": 9,
   "metadata": {
    "collapsed": false
   },
   "outputs": [
    {
     "name": "stdout",
     "output_type": "stream",
     "text": [
      "(2, 1)\n"
     ]
    }
   ],
   "source": [
    "def swap(x,y):\n",
    "    return (y,x)\n",
    "\n",
    "print(swap(1,2))"
   ]
  },
  {
   "cell_type": "code",
   "execution_count": 4,
   "metadata": {
    "collapsed": false
   },
   "outputs": [
    {
     "name": "stdout",
     "output_type": "stream",
     "text": [
      "2 4\n",
      "<type 'tuple'>\n",
      "2 4\n"
     ]
    }
   ],
   "source": [
    "# 함수 정의\n",
    "def foo(a,b):\n",
    "    return a*2, b*2\n",
    "\n",
    "# 함수 호출\n",
    "aa, bb = foo(1,2)\n",
    "print(aa,bb)\n",
    "\n",
    "result = foo(1,2)\n",
    "print(type(result))\n",
    "print(result[0], result[1])"
   ]
  },
  {
   "cell_type": "markdown",
   "metadata": {},
   "source": [
    "# 제네레이터 (Generator)"
   ]
  },
  {
   "cell_type": "code",
   "execution_count": 31,
   "metadata": {
    "collapsed": true
   },
   "outputs": [],
   "source": [
    "def countdown(n):\n",
    "    print('카운트 다운 시작!')\n",
    "    while n>0:\n",
    "        yield n\n",
    "        n -=1"
   ]
  },
  {
   "cell_type": "code",
   "execution_count": 32,
   "metadata": {
    "collapsed": true
   },
   "outputs": [],
   "source": [
    "c = countdown(10)"
   ]
  },
  {
   "cell_type": "code",
   "execution_count": 33,
   "metadata": {
    "collapsed": false
   },
   "outputs": [
    {
     "name": "stdout",
     "output_type": "stream",
     "text": [
      "카운트 다운 시작!\n"
     ]
    },
    {
     "data": {
      "text/plain": [
       "10"
      ]
     },
     "execution_count": 33,
     "metadata": {},
     "output_type": "execute_result"
    }
   ],
   "source": [
    "c.next()"
   ]
  },
  {
   "cell_type": "code",
   "execution_count": 34,
   "metadata": {
    "collapsed": false
   },
   "outputs": [
    {
     "data": {
      "text/plain": [
       "9"
      ]
     },
     "execution_count": 34,
     "metadata": {},
     "output_type": "execute_result"
    }
   ],
   "source": [
    "c.next()"
   ]
  },
  {
   "cell_type": "code",
   "execution_count": 35,
   "metadata": {
    "collapsed": false
   },
   "outputs": [
    {
     "name": "stdout",
     "output_type": "stream",
     "text": [
      "카운트 다운 시작!\n",
      "10 9 8 7 6 5 4 3 2 1 "
     ]
    }
   ],
   "source": [
    "for c in countdown(10):\n",
    "    print(c, end=' ')"
   ]
  },
  {
   "cell_type": "markdown",
   "metadata": {},
   "source": [
    "## 도전과제\n",
    "\n",
    "리스트, 문자열과 같은 시퀀스를 받아서 홀수번째 원소만 선택해 반환하는 함수 its_odd를 정의하시오.\n",
    "\n",
    "예: \n",
    "\n",
    "    result = its_odd(u'파이썬')\n",
    "    print(result) # '파썬'\n",
    "    \n",
    "    result = its_odd([1,2,3,4,5])\n",
    "    print(result) # [1,3,5]"
   ]
  },
  {
   "cell_type": "code",
   "execution_count": null,
   "metadata": {
    "collapsed": true
   },
   "outputs": [],
   "source": []
  },
  {
   "cell_type": "markdown",
   "metadata": {},
   "source": [
    "## 도전과제\n",
    "\n",
    "피보나치 수열은 다음과 같다.\n",
    "\n",
    "0 1 1 2 3 5 8 ... \n",
    "\n",
    "a. 임의의 n개의 피보나치 수열을 리스트로 반환하는 함수 generate_fibo를 작성하시오.\n",
    "\n",
    "b. generate_fibo 호출 시, 시작 숫자 두 개를 지정할 수 있도록 하시오. 인자를 설정하지 않으면 수열은 0,1로 시작한다. 생성 개수를 지정하지 않으면, 기본적으로 10개의 숫자를 생성하도록 만드시오."
   ]
  },
  {
   "cell_type": "code",
   "execution_count": 8,
   "metadata": {
    "collapsed": false
   },
   "outputs": [
    {
     "name": "stdout",
     "output_type": "stream",
     "text": [
      "[0, 1, 1, 2, 3]\n"
     ]
    }
   ],
   "source": [
    "def generate_fibo(a=0,b=1, n=10):\n",
    "    \"\"\"피보나치 수열 생성 함수\n",
    "    n: 수열 개수\n",
    "    \"\"\"\n",
    "    # 생성한 수열을 담을 리스트\n",
    "    fibos = [a,b]\n",
    "    # 리스트의 현재 크기 확인. n보다 작으면 생성\n",
    "    while len(fibos) < n:\n",
    "        # 새로 생성한 값을 수열에 추가\n",
    "        fibos.append(a+b)\n",
    "        # a와 b값을 새 값으로 갱신\n",
    "        a, b = fibos[-2], fibos[-1]\n",
    "    return fibos\n",
    "\n",
    "print(generate_fibo(n=5))"
   ]
  },
  {
   "cell_type": "markdown",
   "metadata": {},
   "source": [
    "## 도전과제\n",
    "\n",
    "포커 카드 52장을 게임 참가자에게 각각 5장씩 나눠주는 프로그램을 작성하시오. 포커 카드는 참가자에게 나눠주기 전에 무작위로 섞여야 한다. 참가자의 수는 2-4명이 될 수 있다.\n",
    "\n",
    "a. 포커 카드를 나눠주고 나서 각 참가자가 받은 포커 카드를 모두 출력한다.\n",
    "\n",
    "b. 각 참자자의 카드의 숫자를 기준으로 오름차순으로 정렬해 출력한다."
   ]
  },
  {
   "cell_type": "code",
   "execution_count": null,
   "metadata": {
    "collapsed": true
   },
   "outputs": [],
   "source": []
  },
  {
   "cell_type": "markdown",
   "metadata": {},
   "source": [
    "## 도전과제\n",
    "52장의 포커 카드가 있다. 이 카드를 사용해 블랙잭 게임을 한다.\n",
    "\n",
    "블랙잭 게임은 각 참가자가 처음에 두 장의 카드를 받는다.\n",
    "각 카드의 숫자를 모두 더 해 21인지 확인한다.\n",
    "\n",
    "- 21이면 블랙잭! 게임이 종료되고 승리한다.\n",
    "- 숫자의 합이 21보다 작으면 한 장의 카드를 더 받는다.\n",
    "- 숫자의 합이 21보다 크면 게임에서 패배한다."
   ]
  },
  {
   "cell_type": "code",
   "execution_count": 7,
   "metadata": {
    "collapsed": false
   },
   "outputs": [
    {
     "name": "stdout",
     "output_type": "stream",
     "text": [
      "hand: [('Clover', 7), ('Heart', 4)]\n",
      "Clover 7 Heart 4 Total= 11\n",
      "인생을 계속 살아봐야 아는 거지 ... 한 장 더\n",
      "Clover 7 Heart 4 Clover 9 Total= 20\n",
      "인생을 계속 살아봐야 아는 거지 ... 한 장 더\n",
      "Clover 7 Heart 4 Clover 9 Heart A Total= 34\n",
      "돈 잃었다...\n"
     ]
    }
   ],
   "source": [
    "import random\n",
    "\n",
    "# 52장의 카드덱 생성\n",
    "def gen_deck():\n",
    "    ranks = list(range(2,11))+['J', 'Q', 'K', 'A']\n",
    "    suits = ['Spade', 'Heart', 'Diamond', 'Clover']\n",
    "    \n",
    "    deck = [] # 카드덱 초기화\n",
    "    for s in suits:\n",
    "        for r in ranks:\n",
    "            deck.append((s, r))\n",
    "            \n",
    "    # 잘 섞기\n",
    "    random.shuffle(deck)\n",
    "    return deck\n",
    "\n",
    "# 블랙잭 게임 시작\n",
    "deck=gen_deck()\n",
    "\n",
    "# 카드 두 장 받기\n",
    "hand = [deck.pop(), deck.pop()]\n",
    "print('hand:', hand)\n",
    "\n",
    "# TODO: 블랙잭 평가\n",
    "while True:\n",
    "    # 현재 hand의 카드의 숫자를 모두 더한다.\n",
    "    total=0\n",
    "    for card in hand:\n",
    "        # 현재 카드 출력\n",
    "        print(card[0], card[1], end=' ')\n",
    "        \n",
    "        if card[1]=='A':\n",
    "            total = total + 14\n",
    "        elif card[1]=='K':\n",
    "            total = total + 13\n",
    "        elif card[1] == 'Q':\n",
    "            total = total + 12\n",
    "        elif card[1] == 'J':\n",
    "            total = total + 11\n",
    "        else:\n",
    "            # 숫자인 경우는 그냥 더해준다.\n",
    "            total = total + card[1]\n",
    "    \n",
    "    print('Total=', total)\n",
    "    if total == 21:\n",
    "        result = '블랙잭!!!!!!!'\n",
    "        print(result)\n",
    "        break\n",
    "    elif total > 21:\n",
    "        result = '돈 잃었다...'\n",
    "        print(result)\n",
    "        break\n",
    "    elif total < 21:\n",
    "        # 카드를 한 장 더 받는다.\n",
    "        hand.append(deck.pop())\n",
    "        result = '인생을 계속 살아봐야 아는 거지 ... 한 장 더'\n",
    "        print(result)"
   ]
  },
  {
   "cell_type": "markdown",
   "metadata": {},
   "source": [
    "## 도전과제\n",
    "카드의 모음을 패(hand)라고 한다. 카드패에서 다음의 경우를 판정하는 프로그램을 작성한다.\n",
    "1. 같은 숫자 네 개가 있는 경우\n",
    "2. 숫자 다섯 개가 연속되는 경우\n",
    "3. 같은 문양이 다섯 개인 경우\n",
    "4. 같은 숫자 쌍이 있는 경우"
   ]
  },
  {
   "cell_type": "code",
   "execution_count": null,
   "metadata": {
    "collapsed": true
   },
   "outputs": [],
   "source": []
  }
 ],
 "metadata": {
  "kernelspec": {
   "display_name": "Python 2",
   "language": "python",
   "name": "python2"
  },
  "language_info": {
   "codemirror_mode": {
    "name": "ipython",
    "version": 2
   },
   "file_extension": ".py",
   "mimetype": "text/x-python",
   "name": "python",
   "nbconvert_exporter": "python",
   "pygments_lexer": "ipython2",
   "version": "2.7.10"
  }
 },
 "nbformat": 4,
 "nbformat_minor": 0
}
