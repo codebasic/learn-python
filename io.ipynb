{
 "cells": [
  {
   "cell_type": "code",
   "execution_count": 66,
   "metadata": {
    "collapsed": true
   },
   "outputs": [],
   "source": [
    "from __future__ import print_function"
   ]
  },
  {
   "cell_type": "code",
   "execution_count": 3,
   "metadata": {
    "collapsed": false,
    "scrolled": true
   },
   "outputs": [
    {
     "ename": "SyntaxError",
     "evalue": "invalid syntax (<ipython-input-3-836cd6d4f243>, line 1)",
     "output_type": "error",
     "traceback": [
      "\u001b[0;36m  File \u001b[0;32m\"<ipython-input-3-836cd6d4f243>\"\u001b[0;36m, line \u001b[0;32m1\u001b[0m\n\u001b[0;31m    print 'hi'\u001b[0m\n\u001b[0m             ^\u001b[0m\n\u001b[0;31mSyntaxError\u001b[0m\u001b[0;31m:\u001b[0m invalid syntax\n"
     ]
    }
   ],
   "source": [
    "print 'hi' # 3버전을 사용하면 2 버전 스타일은 문법 오류!"
   ]
  },
  {
   "cell_type": "code",
   "execution_count": 2,
   "metadata": {
    "collapsed": false
   },
   "outputs": [
    {
     "name": "stdout",
     "output_type": "stream",
     "text": [
      "hi guys\n",
      "hi guys\n",
      "hi guys\n"
     ]
    }
   ],
   "source": [
    "print('hi guys')\n",
    "print('hi', 'guys')\n",
    "print('hi'+ ' guys')"
   ]
  },
  {
   "cell_type": "code",
   "execution_count": 3,
   "metadata": {
    "collapsed": false
   },
   "outputs": [
    {
     "name": "stdout",
     "output_type": "stream",
     "text": [
      "higuys\n",
      "hi...guys\n"
     ]
    }
   ],
   "source": [
    "print('hi', 'guys', sep='')\n",
    "print('hi', 'guys', sep='...')"
   ]
  },
  {
   "cell_type": "code",
   "execution_count": 4,
   "metadata": {
    "collapsed": false
   },
   "outputs": [
    {
     "name": "stdout",
     "output_type": "stream",
     "text": [
      "안녕\n",
      "하세요\n",
      "안녕\t하세요\n",
      "안녕      \n",
      "안녕\t하세요\n",
      "따옴표 '가 많이 신경쓰여요\n",
      "따옴표 '가 많이 신경쓰여요\n"
     ]
    }
   ],
   "source": [
    "# 탈출(escape) 문자 활용\n",
    "print('안녕\\n하세요')\n",
    "print('안녕\\t하세요')\n",
    "print('안녕\\\n",
    "      ')\n",
    "\n",
    "print('안녕', end='\\t')\n",
    "print('하세요')\n",
    "\n",
    "print(\"따옴표 '가 많이 신경쓰여요\")\n",
    "# 따옴표 효과 해제\n",
    "print('따옴표 \\'가 많이 신경쓰여요')"
   ]
  },
  {
   "cell_type": "markdown",
   "metadata": {},
   "source": [
    "## 문자열 템플릿"
   ]
  },
  {
   "cell_type": "markdown",
   "metadata": {},
   "source": [
    "2 버전 스타일. 권장하지 않음."
   ]
  },
  {
   "cell_type": "code",
   "execution_count": 41,
   "metadata": {
    "collapsed": false
   },
   "outputs": [
    {
     "name": "stdout",
     "output_type": "stream",
     "text": [
      "내 이름은 이성주입니다.\n"
     ]
    }
   ],
   "source": [
    "template = '내 이름은 %s입니다.'\n",
    "print(template % '이성주')"
   ]
  },
  {
   "cell_type": "markdown",
   "metadata": {},
   "source": [
    "3 버전 스타일을 권장"
   ]
  },
  {
   "cell_type": "code",
   "execution_count": 5,
   "metadata": {
    "collapsed": false
   },
   "outputs": [
    {
     "name": "stdout",
     "output_type": "stream",
     "text": [
      "내 이름은 이성주입니다. 이메일은 seongjoo@codebasic.co입니다. 몸무게: 85\n"
     ]
    }
   ],
   "source": [
    "template = '내 이름은 {}입니다. 이메일은 {}입니다. 몸무게: {}'\n",
    "print(template.format('이성주', 'seongjoo@codebasic.co', 85))"
   ]
  },
  {
   "cell_type": "markdown",
   "metadata": {},
   "source": [
    "문자열 템플릿 사용 시, unicode와 str이 결합되지 않도록 유의"
   ]
  },
  {
   "cell_type": "code",
   "execution_count": 21,
   "metadata": {
    "collapsed": false,
    "scrolled": false
   },
   "outputs": [
    {
     "ename": "UnicodeDecodeError",
     "evalue": "'ascii' codec can't decode byte 0xec in position 0: ordinal not in range(128)",
     "output_type": "error",
     "traceback": [
      "\u001b[0;31m---------------------------------------------------------------------------\u001b[0m",
      "\u001b[0;31mUnicodeDecodeError\u001b[0m                        Traceback (most recent call last)",
      "\u001b[0;32m<ipython-input-21-96afcbfe2075>\u001b[0m in \u001b[0;36m<module>\u001b[0;34m()\u001b[0m\n\u001b[0;32m----> 1\u001b[0;31m \u001b[0;32mprint\u001b[0m\u001b[0;34m(\u001b[0m\u001b[0;34mu'이름: {}'\u001b[0m\u001b[0;34m.\u001b[0m\u001b[0mformat\u001b[0m\u001b[0;34m(\u001b[0m\u001b[0;34m'이성주'\u001b[0m\u001b[0;34m)\u001b[0m\u001b[0;34m)\u001b[0m\u001b[0;34m\u001b[0m\u001b[0m\n\u001b[0m",
      "\u001b[0;31mUnicodeDecodeError\u001b[0m: 'ascii' codec can't decode byte 0xec in position 0: ordinal not in range(128)"
     ]
    }
   ],
   "source": [
    "print(u'이름: {}'.format('이성주')) # 오류! unicode와 str의 조합"
   ]
  },
  {
   "cell_type": "code",
   "execution_count": 7,
   "metadata": {
    "collapsed": false
   },
   "outputs": [
    {
     "name": "stdout",
     "output_type": "stream",
     "text": [
      "three two one\n"
     ]
    }
   ],
   "source": [
    "template = '{2} {1} {0}'\n",
    "text = template.format('one', 'two', 'three')\n",
    "print(text)"
   ]
  },
  {
   "cell_type": "code",
   "execution_count": 5,
   "metadata": {
    "collapsed": false,
    "scrolled": false
   },
   "outputs": [
    {
     "name": "stdout",
     "output_type": "stream",
     "text": [
      "1 * 1 = 1\n",
      "2 * 2 = 4\n",
      "3 * 3 = 9\n",
      "4 * 4 = 16\n",
      "5 * 5 = 25\n"
     ]
    }
   ],
   "source": [
    "for x in range(1,6):\n",
    "    print(x, '*', x, '=', x*x)"
   ]
  },
  {
   "cell_type": "markdown",
   "metadata": {},
   "source": [
    "자리수 표현"
   ]
  },
  {
   "cell_type": "code",
   "execution_count": 8,
   "metadata": {
    "collapsed": false
   },
   "outputs": [
    {
     "name": "stdout",
     "output_type": "stream",
     "text": [
      "1\n",
      "1\n"
     ]
    }
   ],
   "source": [
    "print(4/3)\n",
    "print('{}'.format(4/3))"
   ]
  },
  {
   "cell_type": "code",
   "execution_count": 12,
   "metadata": {
    "collapsed": false
   },
   "outputs": [
    {
     "name": "stdout",
     "output_type": "stream",
     "text": [
      "1.000000\n",
      "2.000000\n",
      "2.000000\n"
     ]
    }
   ],
   "source": [
    "# 소수점 표현 (기본 6자리)\n",
    "print('{:f}'.format(4/3))\n",
    "print('{0:f}'.format(5/2))\n",
    "print('{0:f}'.format(2))"
   ]
  },
  {
   "cell_type": "code",
   "execution_count": 67,
   "metadata": {
    "collapsed": false
   },
   "outputs": [
    {
     "name": "stdout",
     "output_type": "stream",
     "text": [
      "1.0\n",
      "1.00\n",
      "1.000\n"
     ]
    }
   ],
   "source": [
    "print('{0:.1f}'.format(4/3))\n",
    "print('{0:.2f}'.format(4/3))\n",
    "print('{0:.3f}'.format(4/3))"
   ]
  },
  {
   "cell_type": "code",
   "execution_count": 14,
   "metadata": {
    "collapsed": false
   },
   "outputs": [
    {
     "name": "stdout",
     "output_type": "stream",
     "text": [
      "1.666667\n",
      "1.7\n"
     ]
    }
   ],
   "source": [
    "# 소수점 개수를 선택하면 반올림\n",
    "n = 5.0/3\n",
    "print('{0:f}'.format(n))\n",
    "print('{0:.1f}'.format(n))"
   ]
  },
  {
   "cell_type": "code",
   "execution_count": 68,
   "metadata": {
    "collapsed": false
   },
   "outputs": [
    {
     "name": "stdout",
     "output_type": "stream",
     "text": [
      "1.000000e+00\n",
      "100.000000%\n"
     ]
    }
   ],
   "source": [
    "# 그 밖의 양식\n",
    "print('{0:e}'.format(4/3))\n",
    "print('{0:%}'.format(4/3))"
   ]
  },
  {
   "cell_type": "markdown",
   "metadata": {},
   "source": [
    "정렬"
   ]
  },
  {
   "cell_type": "code",
   "execution_count": 6,
   "metadata": {
    "collapsed": false
   },
   "outputs": [
    {
     "name": "stdout",
     "output_type": "stream",
     "text": [
      "    오른쪽 정렬\n",
      "오른쪽 정렬\n",
      "   중앙 정렬    \n",
      "중앙 정렬\n",
      "왼쪽 정렬...은 원래 되는데 아랍어 등은 방향이 반대니까\n"
     ]
    }
   ],
   "source": [
    "print('오른쪽 정렬'.rjust(20))\n",
    "print('오른쪽 정렬'.rjust(1))\n",
    "\n",
    "print('중앙 정렬'.center(20))\n",
    "print('중앙 정렬'.center(1))\n",
    "\n",
    "print('왼쪽 정렬...은 원래 되는데 아랍어 등은 방향이 반대니까'.ljust(10))"
   ]
  },
  {
   "cell_type": "code",
   "execution_count": 16,
   "metadata": {
    "collapsed": false
   },
   "outputs": [
    {
     "name": "stdout",
     "output_type": "stream",
     "text": [
      "1 x  1 =   1\n",
      "2 x  2 =   4\n",
      "3 x  3 =   9\n",
      "4 x  4 =  16\n",
      "5 x  5 =  25\n"
     ]
    }
   ],
   "source": [
    "for x in range(1,6):\n",
    "    print('{} x {} = {}'.format(x,x,str(x*x).rjust(3)))"
   ]
  },
  {
   "cell_type": "code",
   "execution_count": 17,
   "metadata": {
    "collapsed": false
   },
   "outputs": [
    {
     "name": "stdout",
     "output_type": "stream",
     "text": [
      "1 x 1 = 001\n",
      "2 x 2 = 004\n",
      "3 x 3 = 009\n",
      "4 x 4 = 016\n",
      "5 x 5 = 025\n"
     ]
    }
   ],
   "source": [
    "for x in range(1,6):\n",
    "    print('{} x {} = {}'.format(x,x,str(x*x).zfill(3)))"
   ]
  },
  {
   "cell_type": "markdown",
   "metadata": {},
   "source": [
    "한국어와 같은 비 ASCII 문자 정렬 시, 유니코드가 아닌 경우 발생할 수 있는 문제"
   ]
  },
  {
   "cell_type": "code",
   "execution_count": 19,
   "metadata": {
    "collapsed": false,
    "scrolled": true
   },
   "outputs": [
    {
     "data": {
      "text/plain": [
       "12"
      ]
     },
     "execution_count": 19,
     "metadata": {},
     "output_type": "execute_result"
    }
   ],
   "source": [
    "len('공학수학'.rjust(10))"
   ]
  },
  {
   "cell_type": "code",
   "execution_count": 20,
   "metadata": {
    "collapsed": false,
    "scrolled": true
   },
   "outputs": [
    {
     "data": {
      "text/plain": [
       "10"
      ]
     },
     "execution_count": 20,
     "metadata": {},
     "output_type": "execute_result"
    }
   ],
   "source": [
    "len( u'공학수학'.rjust(10))"
   ]
  },
  {
   "cell_type": "markdown",
   "metadata": {},
   "source": [
    "## 도전과제\n",
    "\n",
    "다음과 같이 출력되도록 작성하시오.\n",
    "<table>\n",
    "<tr>\n",
    "<td>Math</td>   <td>Stats</td>   <td>Prog.</td>\n",
    "</tr>\n",
    "<tr>\n",
    "    <td>90</td> <td>85</td>        <td>95</td>\n",
    "</tr>\n",
    "</table>"
   ]
  },
  {
   "cell_type": "code",
   "execution_count": 26,
   "metadata": {
    "collapsed": false
   },
   "outputs": [
    {
     "name": "stdout",
     "output_type": "stream",
     "text": [
      "      Math      Stats       Prog\n",
      "        90         85         95\n"
     ]
    }
   ],
   "source": [
    "#print('공학수학'.rjust(10))\n",
    "#print('      Math', '     Stats')\n",
    "col_width=10\n",
    "print(u'Math'.rjust(col_width), u'Stats'.rjust(col_width), u'Prog.'.rjust(col_width))\n",
    "print( u'90'.rjust(col_width), u'85'.rjust(col_width), u'95'.rjust(col_width))"
   ]
  },
  {
   "cell_type": "markdown",
   "metadata": {},
   "source": [
    "## 도전과제\n",
    "\n",
    "각 학생의 점수가 다음과 같은 구조로 저장되어 있다.\n",
    "\n",
    "점수목록=[{'이름': '이성주', \n",
    "         '과목점수': {'Math': 90, 'Stats': 85, 'Prog.': 95}},\n",
    "         {'이름': '손지훈',\n",
    "          '과목점수': ...}]\n",
    "\n",
    "다음과 같이 출력되도록 작성하시오.\n",
    "\n",
    "이름     Math    Stats     Prog.\n",
    "이성주      90       84        92\n",
    "손지훈      95       80        90\n",
    "\n",
    "전체 Math  평균  =  92.5 \n",
    "전체 Stats 평균  =  82\n",
    "전체 Prog. 평균  =  91"
   ]
  },
  {
   "cell_type": "code",
   "execution_count": 18,
   "metadata": {
    "collapsed": false
   },
   "outputs": [
    {
     "name": "stdout",
     "output_type": "stream",
     "text": [
      "    이름      Math     Stats     Prog.\n",
      " 이성주        90        84        92\n",
      " 김성주        95        80        90\n"
     ]
    }
   ],
   "source": [
    "scores=[{'이름': '이성주', \n",
    "       '과목점수': {'Math': 90, 'Stats': 84, 'Prog.': 92}}, \n",
    "      {'이름': '김성주', \n",
    "       '과목점수':{'Math': 95, 'Stats': 80, 'Prog.': 90}}]\n",
    "\n",
    "col_width = 10\n",
    "\n",
    "print('이름'.rjust(col_width), end='')\n",
    "print('Math'.rjust(col_width), end='')\n",
    "print('Stats'.rjust(col_width), end='')\n",
    "print('Prog.'.rjust(col_width))\n",
    "\n",
    "for student in scores:    \n",
    "    print(student['이름'].rjust(col_width), end='')\n",
    "    # 과목점수 표시\n",
    "    print(str(student['과목점수']['Math']).rjust(col_width), end='')\n",
    "    print(str(student['과목점수']['Stats']).rjust(col_width), end='')\n",
    "    print(str(student['과목점수']['Prog.']).rjust(col_width))"
   ]
  },
  {
   "cell_type": "markdown",
   "metadata": {
    "collapsed": true
   },
   "source": [
    "# 파일 입출력"
   ]
  },
  {
   "cell_type": "code",
   "execution_count": 23,
   "metadata": {
    "collapsed": false
   },
   "outputs": [
    {
     "ename": "IOError",
     "evalue": "[Errno 2] No such file or directory: 'no_such_file.txt'",
     "output_type": "error",
     "traceback": [
      "\u001b[0;31m---------------------------------------------------------------------------\u001b[0m",
      "\u001b[0;31mIOError\u001b[0m                                   Traceback (most recent call last)",
      "\u001b[0;32m<ipython-input-23-a5de52e50dc4>\u001b[0m in \u001b[0;36m<module>\u001b[0;34m()\u001b[0m\n\u001b[0;32m----> 1\u001b[0;31m \u001b[0mopen\u001b[0m\u001b[0;34m(\u001b[0m\u001b[0;34m'no_such_file.txt'\u001b[0m\u001b[0;34m)\u001b[0m\u001b[0;34m\u001b[0m\u001b[0m\n\u001b[0m",
      "\u001b[0;31mIOError\u001b[0m: [Errno 2] No such file or directory: 'no_such_file.txt'"
     ]
    }
   ],
   "source": [
    "open('no_such_file.txt')"
   ]
  },
  {
   "cell_type": "code",
   "execution_count": 24,
   "metadata": {
    "collapsed": false
   },
   "outputs": [
    {
     "data": {
      "text/plain": [
       "<open file 'hello_world.txt', mode 'r' at 0x1038c7420>"
      ]
     },
     "execution_count": 24,
     "metadata": {},
     "output_type": "execute_result"
    }
   ],
   "source": [
    "open('hello_world.txt')"
   ]
  },
  {
   "cell_type": "markdown",
   "metadata": {},
   "source": [
    "파일 내용 읽기"
   ]
  },
  {
   "cell_type": "code",
   "execution_count": 33,
   "metadata": {
    "collapsed": false
   },
   "outputs": [
    {
     "data": {
      "text/plain": [
       "'2015-07-07\\n'"
      ]
     },
     "execution_count": 33,
     "metadata": {},
     "output_type": "execute_result"
    }
   ],
   "source": [
    "f = open('hello_world.txt')\n",
    "lines = f.readlines()\n",
    "lines[0]"
   ]
  },
  {
   "cell_type": "markdown",
   "metadata": {},
   "source": [
    "한글 윈도우의 메모장, 액셀과 같은 일부 앱은 cp949 인코딩으로 되어 있다."
   ]
  },
  {
   "cell_type": "code",
   "execution_count": 61,
   "metadata": {
    "collapsed": false
   },
   "outputs": [
    {
     "ename": "IOError",
     "evalue": "[Errno 2] No such file or directory: 'file_with_cp949_encoding.txt'",
     "output_type": "error",
     "traceback": [
      "\u001b[0;31m---------------------------------------------------------------------------\u001b[0m",
      "\u001b[0;31mIOError\u001b[0m                                   Traceback (most recent call last)",
      "\u001b[0;32m<ipython-input-61-18c696d0253e>\u001b[0m in \u001b[0;36m<module>\u001b[0;34m()\u001b[0m\n\u001b[0;32m----> 1\u001b[0;31m \u001b[0mf\u001b[0m \u001b[0;34m=\u001b[0m \u001b[0mopen\u001b[0m\u001b[0;34m(\u001b[0m\u001b[0;34m'file_with_cp949_encoding.txt'\u001b[0m\u001b[0;34m)\u001b[0m\u001b[0;34m\u001b[0m\u001b[0m\n\u001b[0m\u001b[1;32m      2\u001b[0m \u001b[0mtext\u001b[0m \u001b[0;34m=\u001b[0m \u001b[0mf\u001b[0m\u001b[0;34m.\u001b[0m\u001b[0mread\u001b[0m\u001b[0;34m(\u001b[0m\u001b[0;34m)\u001b[0m\u001b[0;34m\u001b[0m\u001b[0m\n",
      "\u001b[0;31mIOError\u001b[0m: [Errno 2] No such file or directory: 'file_with_cp949_encoding.txt'"
     ]
    }
   ],
   "source": [
    "f = open('file_with_cp949_encoding.txt')\n",
    "text = f.read()\n",
    "print(text.decode('cp949'))"
   ]
  },
  {
   "cell_type": "code",
   "execution_count": 34,
   "metadata": {
    "collapsed": false
   },
   "outputs": [
    {
     "name": "stdout",
     "output_type": "stream",
     "text": [
      "2015-07-07\n",
      "\n",
      "안녕하세요\n",
      "파이썬입니다.\n",
      "오늘은 2일차!\n",
      "\n"
     ]
    }
   ],
   "source": [
    "for l in lines:\n",
    "    print(l, end='')"
   ]
  },
  {
   "cell_type": "code",
   "execution_count": 43,
   "metadata": {
    "collapsed": false
   },
   "outputs": [
    {
     "data": {
      "text/plain": [
       "'2015-07-07\\n\\n\\xec\\x95\\x88\\xeb\\x85\\x95\\xed\\x95\\x98\\xec\\x84\\xb8\\xec\\x9a\\x94\\n\\xed\\x8c\\x8c\\xec\\x9d\\xb4\\xec\\x8d\\xac\\xec\\x9e\\x85\\xeb\\x8b\\x88\\xeb\\x8b\\xa4.\\n\\xec\\x98\\xa4\\xeb\\x8a\\x98\\xec\\x9d\\x80 2\\xec\\x9d\\xbc\\xec\\xb0\\xa8!\\n\\n'"
      ]
     },
     "execution_count": 43,
     "metadata": {},
     "output_type": "execute_result"
    }
   ],
   "source": [
    "f = open('hello_world.txt')\n",
    "f.read()"
   ]
  },
  {
   "cell_type": "code",
   "execution_count": 44,
   "metadata": {
    "collapsed": false
   },
   "outputs": [
    {
     "data": {
      "text/plain": [
       "''"
      ]
     },
     "execution_count": 44,
     "metadata": {},
     "output_type": "execute_result"
    }
   ],
   "source": [
    "f.read()"
   ]
  },
  {
   "cell_type": "code",
   "execution_count": 46,
   "metadata": {
    "collapsed": false
   },
   "outputs": [
    {
     "data": {
      "text/plain": [
       "str"
      ]
     },
     "execution_count": 46,
     "metadata": {},
     "output_type": "execute_result"
    }
   ],
   "source": [
    "f.seek(0)\n",
    "lines = f.readlines()\n",
    "type(lines[0])"
   ]
  },
  {
   "cell_type": "code",
   "execution_count": 42,
   "metadata": {
    "collapsed": false
   },
   "outputs": [
    {
     "data": {
      "text/plain": [
       "68"
      ]
     },
     "execution_count": 42,
     "metadata": {},
     "output_type": "execute_result"
    }
   ],
   "source": [
    "f.seek(0)\n",
    "f.read()\n",
    "f.tell()"
   ]
  },
  {
   "cell_type": "markdown",
   "metadata": {},
   "source": [
    "파일 쓰기"
   ]
  },
  {
   "cell_type": "code",
   "execution_count": 59,
   "metadata": {
    "collapsed": false
   },
   "outputs": [],
   "source": [
    "text = ['hello, world!', 'how are you?', 'fine, thank you!']\n",
    "f = open('hello_write.txt', 'w')\n",
    "\n",
    "for line in text:\n",
    "    f.write(line)\n",
    "    f.write('\\n')\n",
    "    \n",
    "f.close()"
   ]
  },
  {
   "cell_type": "markdown",
   "metadata": {},
   "source": [
    "이어쓰기"
   ]
  },
  {
   "cell_type": "code",
   "execution_count": 60,
   "metadata": {
    "collapsed": true
   },
   "outputs": [],
   "source": [
    "f = open('hello_write.txt', 'a')\n",
    "f.write('and you?')\n",
    "f.close()"
   ]
  },
  {
   "cell_type": "markdown",
   "metadata": {
    "collapsed": true
   },
   "source": [
    "유니코드 문자열의 파일 쓰기"
   ]
  },
  {
   "cell_type": "code",
   "execution_count": 65,
   "metadata": {
    "collapsed": false
   },
   "outputs": [],
   "source": [
    "text = u'파이썬'\n",
    "f = open('hello_python.txt', 'w')\n",
    "# 문자열 인코딩\n",
    "text_encoded = text.encode('utf-8')\n",
    "# 파일 쓰기 실행\n",
    "f.write(text_encoded)\n",
    "f.close()"
   ]
  },
  {
   "cell_type": "code",
   "execution_count": null,
   "metadata": {
    "collapsed": true
   },
   "outputs": [],
   "source": []
  }
 ],
 "metadata": {
  "kernelspec": {
   "display_name": "Python 2",
   "language": "python",
   "name": "python2"
  },
  "language_info": {
   "codemirror_mode": {
    "name": "ipython",
    "version": 2
   },
   "file_extension": ".py",
   "mimetype": "text/x-python",
   "name": "python",
   "nbconvert_exporter": "python",
   "pygments_lexer": "ipython2",
   "version": "2.7.10"
  }
 },
 "nbformat": 4,
 "nbformat_minor": 0
}
