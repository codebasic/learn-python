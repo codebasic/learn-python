{
 "cells": [
  {
   "cell_type": "code",
   "execution_count": 1,
   "metadata": {
    "collapsed": true
   },
   "outputs": [],
   "source": [
    "from __future__ import print_function"
   ]
  },
  {
   "cell_type": "code",
   "execution_count": 2,
   "metadata": {
    "collapsed": false
   },
   "outputs": [
    {
     "name": "stdout",
     "output_type": "stream",
     "text": [
      "hi guys\n",
      "hi guys\n",
      "hi guys\n"
     ]
    }
   ],
   "source": [
    "print('hi guys')\n",
    "print('hi', 'guys')\n",
    "print('hi'+ ' guys')"
   ]
  },
  {
   "cell_type": "code",
   "execution_count": 3,
   "metadata": {
    "collapsed": false
   },
   "outputs": [
    {
     "name": "stdout",
     "output_type": "stream",
     "text": [
      "higuys\n",
      "hi...guys\n"
     ]
    }
   ],
   "source": [
    "print('hi', 'guys', sep='')\n",
    "print('hi', 'guys', sep='...')"
   ]
  },
  {
   "cell_type": "code",
   "execution_count": 4,
   "metadata": {
    "collapsed": false
   },
   "outputs": [
    {
     "name": "stdout",
     "output_type": "stream",
     "text": [
      "안녕\n",
      "하세요\n",
      "안녕\t하세요\n",
      "안녕      \n",
      "안녕\t하세요\n",
      "따옴표 '가 많이 신경쓰여요\n",
      "따옴표 '가 많이 신경쓰여요\n"
     ]
    }
   ],
   "source": [
    "# 탈출(escape) 문자 활용\n",
    "print('안녕\\n하세요')\n",
    "print('안녕\\t하세요')\n",
    "print('안녕\\\n",
    "      ')\n",
    "\n",
    "print('안녕', end='\\t')\n",
    "print('하세요')\n",
    "\n",
    "print(\"따옴표 '가 많이 신경쓰여요\")\n",
    "# 따옴표 효과 해제\n",
    "print('따옴표 \\'가 많이 신경쓰여요')"
   ]
  },
  {
   "cell_type": "markdown",
   "metadata": {},
   "source": [
    "## 문자열 템플릿"
   ]
  },
  {
   "cell_type": "code",
   "execution_count": 41,
   "metadata": {
    "collapsed": false
   },
   "outputs": [
    {
     "name": "stdout",
     "output_type": "stream",
     "text": [
      "내 이름은 이성주입니다.\n"
     ]
    }
   ],
   "source": [
    "template = '내 이름은 %s입니다.'\n",
    "print(template % '이성주')"
   ]
  },
  {
   "cell_type": "code",
   "execution_count": 42,
   "metadata": {
    "collapsed": false
   },
   "outputs": [
    {
     "name": "stdout",
     "output_type": "stream",
     "text": [
      "내 이름은 이성주입니다.\n"
     ]
    }
   ],
   "source": [
    "template = '내 이름은 {}입니다.'\n",
    "print(template.format('이성주'))"
   ]
  },
  {
   "cell_type": "code",
   "execution_count": 43,
   "metadata": {
    "collapsed": false
   },
   "outputs": [
    {
     "name": "stdout",
     "output_type": "stream",
     "text": [
      "three two one\n"
     ]
    }
   ],
   "source": [
    "template = '{2} {1} {0}'\n",
    "text = template.format('one', 'two', 'three')\n",
    "print(text)"
   ]
  },
  {
   "cell_type": "code",
   "execution_count": 5,
   "metadata": {
    "collapsed": false,
    "scrolled": false
   },
   "outputs": [
    {
     "name": "stdout",
     "output_type": "stream",
     "text": [
      "1 * 1 = 1\n",
      "2 * 2 = 4\n",
      "3 * 3 = 9\n",
      "4 * 4 = 16\n",
      "5 * 5 = 25\n"
     ]
    }
   ],
   "source": [
    "for x in range(1,6):\n",
    "    print(x, '*', x, '=', x*x)"
   ]
  },
  {
   "cell_type": "markdown",
   "metadata": {},
   "source": [
    "자리수 표현"
   ]
  },
  {
   "cell_type": "code",
   "execution_count": 34,
   "metadata": {
    "collapsed": false
   },
   "outputs": [
    {
     "name": "stdout",
     "output_type": "stream",
     "text": [
      "1\n",
      "1\n"
     ]
    }
   ],
   "source": [
    "print(4/3)\n",
    "print('{0}'.format(4/3))"
   ]
  },
  {
   "cell_type": "code",
   "execution_count": 35,
   "metadata": {
    "collapsed": false
   },
   "outputs": [
    {
     "name": "stdout",
     "output_type": "stream",
     "text": [
      "1.000000\n",
      "2.000000\n",
      "2.000000\n"
     ]
    }
   ],
   "source": [
    "# 소수점 표현 (기본 6자리)\n",
    "print('{0:f}'.format(4/3))\n",
    "print('{0:f}'.format(5/2))\n",
    "print('{0:f}'.format(2))"
   ]
  },
  {
   "cell_type": "code",
   "execution_count": 36,
   "metadata": {
    "collapsed": false
   },
   "outputs": [
    {
     "name": "stdout",
     "output_type": "stream",
     "text": [
      "1.0\n",
      "1.00\n",
      "1.000\n"
     ]
    }
   ],
   "source": [
    "print('{0:.1f}'.format(4/3))\n",
    "print('{0:.2f}'.format(4/3))\n",
    "print('{0:.3f}'.format(4/3))"
   ]
  },
  {
   "cell_type": "code",
   "execution_count": 37,
   "metadata": {
    "collapsed": false
   },
   "outputs": [
    {
     "name": "stdout",
     "output_type": "stream",
     "text": [
      "1.000000\n",
      "1.0\n"
     ]
    }
   ],
   "source": [
    "# 소수점 개수를 선택하면 반올림\n",
    "print('{0:f}'.format(5/3))\n",
    "print('{0:.1f}'.format(5/3))"
   ]
  },
  {
   "cell_type": "code",
   "execution_count": 38,
   "metadata": {
    "collapsed": false
   },
   "outputs": [
    {
     "name": "stdout",
     "output_type": "stream",
     "text": [
      "1.000000e+00\n",
      "100.000000%\n"
     ]
    }
   ],
   "source": [
    "# 그 밖의 양식\n",
    "print('{0:e}'.format(4/3))\n",
    "print('{0:%}'.format(4/3))"
   ]
  },
  {
   "cell_type": "markdown",
   "metadata": {},
   "source": [
    "정렬"
   ]
  },
  {
   "cell_type": "code",
   "execution_count": 6,
   "metadata": {
    "collapsed": false
   },
   "outputs": [
    {
     "name": "stdout",
     "output_type": "stream",
     "text": [
      "    오른쪽 정렬\n",
      "오른쪽 정렬\n",
      "   중앙 정렬    \n",
      "중앙 정렬\n",
      "왼쪽 정렬...은 원래 되는데 아랍어 등은 방향이 반대니까\n"
     ]
    }
   ],
   "source": [
    "print('오른쪽 정렬'.rjust(20))\n",
    "print('오른쪽 정렬'.rjust(1))\n",
    "\n",
    "print('중앙 정렬'.center(20))\n",
    "print('중앙 정렬'.center(1))\n",
    "\n",
    "print('왼쪽 정렬...은 원래 되는데 아랍어 등은 방향이 반대니까'.ljust(10))"
   ]
  },
  {
   "cell_type": "code",
   "execution_count": 7,
   "metadata": {
    "collapsed": false
   },
   "outputs": [
    {
     "name": "stdout",
     "output_type": "stream",
     "text": [
      "1 * 1 =   1\n",
      "2 * 2 =   4\n",
      "3 * 3 =   9\n",
      "4 * 4 =  16\n",
      "5 * 5 =  25\n"
     ]
    }
   ],
   "source": [
    "for x in range(1,6):\n",
    "    print(x, '*', x, '=', str(x*x).rjust(3))"
   ]
  },
  {
   "cell_type": "code",
   "execution_count": 8,
   "metadata": {
    "collapsed": false
   },
   "outputs": [
    {
     "name": "stdout",
     "output_type": "stream",
     "text": [
      "1 * 1 = 001\n",
      "2 * 2 = 004\n",
      "3 * 3 = 009\n",
      "4 * 4 = 016\n",
      "5 * 5 = 025\n"
     ]
    }
   ],
   "source": [
    "for x in range(1,6):\n",
    "    print(x, '*',x, '=', str(x*x).zfill(3))"
   ]
  },
  {
   "cell_type": "markdown",
   "metadata": {},
   "source": [
    "한국어와 같은 비 ASCII 문자 정렬 시, 유니코드가 아닌 경우 발생할 수 있는 문제"
   ]
  },
  {
   "cell_type": "code",
   "execution_count": 19,
   "metadata": {
    "collapsed": false,
    "scrolled": true
   },
   "outputs": [
    {
     "data": {
      "text/plain": [
       "12"
      ]
     },
     "execution_count": 19,
     "metadata": {},
     "output_type": "execute_result"
    }
   ],
   "source": [
    "len('공학수학'.rjust(10))"
   ]
  },
  {
   "cell_type": "code",
   "execution_count": 20,
   "metadata": {
    "collapsed": false,
    "scrolled": true
   },
   "outputs": [
    {
     "data": {
      "text/plain": [
       "10"
      ]
     },
     "execution_count": 20,
     "metadata": {},
     "output_type": "execute_result"
    }
   ],
   "source": [
    "len( u'공학수학'.rjust(10))"
   ]
  },
  {
   "cell_type": "markdown",
   "metadata": {},
   "source": [
    "## 도전과제\n",
    "\n",
    "다음과 같이 출력되도록 작성하시오.\n",
    "<table>\n",
    "<tr>\n",
    "<td>Math</td>   <td>Stats</td>   <td>Prog.</td>\n",
    "</tr>\n",
    "<tr>\n",
    "    <td>90</td> <td>85</td>        <td>95</td>\n",
    "</tr>\n",
    "</table>"
   ]
  },
  {
   "cell_type": "code",
   "execution_count": 26,
   "metadata": {
    "collapsed": false
   },
   "outputs": [
    {
     "name": "stdout",
     "output_type": "stream",
     "text": [
      "      Math      Stats       Prog\n",
      "        90         85         95\n"
     ]
    }
   ],
   "source": [
    "#print('공학수학'.rjust(10))\n",
    "#print('      Math', '     Stats')\n",
    "col_width=10\n",
    "print(u'Math'.rjust(col_width), u'Stats'.rjust(col_width), u'Prog.'.rjust(col_width))\n",
    "print( u'90'.rjust(col_width), u'85'.rjust(col_width), u'95'.rjust(col_width))"
   ]
  },
  {
   "cell_type": "markdown",
   "metadata": {},
   "source": [
    "## 도전과제\n",
    "\n",
    "각 학생의 점수가 다음과 같은 구조로 저장되어 있다.\n",
    "\n",
    "점수목록=[{'이름': '이성주', \n",
    "         '과목점수': {'Math': 90, 'Stats': 85, 'Prog.': 95}},\n",
    "         {'이름': '손지훈',\n",
    "          '과목점수': ...}]\n",
    "\n",
    "다음과 같이 출력되도록 작성하시오.\n",
    "\n",
    "이름     Math    Stats     Prog.\n",
    "이성주      90       84        92\n",
    "손지훈      95       80        90\n",
    "\n",
    "전체 Math  평균  =  92.5 \n",
    "전체 Stats 평균  =  82\n",
    "전체 Prog. 평균  =  91"
   ]
  },
  {
   "cell_type": "code",
   "execution_count": 18,
   "metadata": {
    "collapsed": false
   },
   "outputs": [
    {
     "name": "stdout",
     "output_type": "stream",
     "text": [
      "    이름      Math     Stats     Prog.\n",
      " 이성주        90        84        92\n",
      " 김성주        95        80        90\n"
     ]
    }
   ],
   "source": [
    "scores=[{'이름': '이성주', \n",
    "       '과목점수': {'Math': 90, 'Stats': 84, 'Prog.': 92}}, \n",
    "      {'이름': '김성주', \n",
    "       '과목점수':{'Math': 95, 'Stats': 80, 'Prog.': 90}}]\n",
    "\n",
    "col_width = 10\n",
    "\n",
    "print('이름'.rjust(col_width), end='')\n",
    "print('Math'.rjust(col_width), end='')\n",
    "print('Stats'.rjust(col_width), end='')\n",
    "print('Prog.'.rjust(col_width))\n",
    "\n",
    "for student in scores:    \n",
    "    print(student['이름'].rjust(col_width), end='')\n",
    "    # 과목점수 표시\n",
    "    print(str(student['과목점수']['Math']).rjust(col_width), end='')\n",
    "    print(str(student['과목점수']['Stats']).rjust(col_width), end='')\n",
    "    print(str(student['과목점수']['Prog.']).rjust(col_width))"
   ]
  },
  {
   "cell_type": "code",
   "execution_count": null,
   "metadata": {
    "collapsed": true
   },
   "outputs": [],
   "source": []
  }
 ],
 "metadata": {
  "kernelspec": {
   "display_name": "Python 2",
   "language": "python",
   "name": "python2"
  },
  "language_info": {
   "codemirror_mode": {
    "name": "ipython",
    "version": 2
   },
   "file_extension": ".py",
   "mimetype": "text/x-python",
   "name": "python",
   "nbconvert_exporter": "python",
   "pygments_lexer": "ipython2",
   "version": "2.7.10"
  }
 },
 "nbformat": 4,
 "nbformat_minor": 0
}
