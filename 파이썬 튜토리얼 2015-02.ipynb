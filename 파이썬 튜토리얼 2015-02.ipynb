{
 "cells": [
  {
   "cell_type": "markdown",
   "metadata": {},
   "source": [
    "# 파이썬 프로그래밍"
   ]
  },
  {
   "cell_type": "markdown",
   "metadata": {},
   "source": [
    "이성주 (c) 2015\n",
    "\n",
    "seongjoo@codebasic.co"
   ]
  },
  {
   "cell_type": "code",
   "execution_count": 1,
   "metadata": {
    "collapsed": false
   },
   "outputs": [
    {
     "name": "stdout",
     "output_type": "stream",
     "text": [
      "안녕:A\n"
     ]
    }
   ],
   "source": [
    "print('안녕', 'A', sep=':')"
   ]
  },
  {
   "cell_type": "markdown",
   "metadata": {},
   "source": [
    "3-6-9 만들기\n",
    "숫자에 3,6,9가 하나 이상 있으면 숫자 대신 '짝!'을 출력한다."
   ]
  },
  {
   "cell_type": "code",
   "execution_count": 17,
   "metadata": {
    "collapsed": false
   },
   "outputs": [
    {
     "name": "stdout",
     "output_type": "stream",
     "text": [
      "1 2 짝! 4 5 짝! 7 8 짝! 10 11 12 짝! 14 15 짝! 17 18 짝! 20 "
     ]
    }
   ],
   "source": [
    "nums = [1,2,3,4,5,6,7,8,9,10,11,12,13,14,15,16,17,18,19,20]\n",
    "for n in nums:\n",
    "    msg = n\n",
    "    # 숫자를 각각 따로 조사해서 3,6,9 중에 하나인지 확인\n",
    "    for i in str(n):\n",
    "        if i=='3' or i=='6' or i=='9':\n",
    "            msg='짝!'\n",
    "    \n",
    "    print(msg, end=' ')"
   ]
  },
  {
   "cell_type": "code",
   "execution_count": 13,
   "metadata": {
    "collapsed": false
   },
   "outputs": [
    {
     "name": "stdout",
     "output_type": "stream",
     "text": [
      "짝!\n"
     ]
    }
   ],
   "source": [
    "n=13\n",
    "for i in str(n):\n",
    "    if i=='3' or i=='6' or i=='9':\n",
    "        msg='짝!'\n",
    "        \n",
    "print(msg)"
   ]
  },
  {
   "cell_type": "code",
   "execution_count": 12,
   "metadata": {
    "collapsed": false
   },
   "outputs": [
    {
     "name": "stdout",
     "output_type": "stream",
     "text": [
      "<class 'int'> 13\n",
      "<class 'str'> 13\n"
     ]
    }
   ],
   "source": [
    "n=13\n",
    "print(type(n), n)\n",
    "n_str = str(n)\n",
    "print(type(n_str), n_str)"
   ]
  },
  {
   "cell_type": "markdown",
   "metadata": {},
   "source": [
    "교재 p.72"
   ]
  },
  {
   "cell_type": "code",
   "execution_count": 18,
   "metadata": {
    "collapsed": false
   },
   "outputs": [
    {
     "name": "stdout",
     "output_type": "stream",
     "text": [
      "번호: 1\n",
      "번호: 2\n",
      "번호: 3\n",
      "번호: 4\n",
      "번호: 5\n"
     ]
    }
   ],
   "source": [
    "nums = [1,2,3,4,5,6,7,8,9,10]\n",
    "for i in nums:\n",
    "    if i > 5:\n",
    "        break\n",
    "    print('번호:', i)"
   ]
  },
  {
   "cell_type": "markdown",
   "metadata": {},
   "source": [
    "교재 p.73"
   ]
  },
  {
   "cell_type": "code",
   "execution_count": 32,
   "metadata": {
    "collapsed": false
   },
   "outputs": [
    {
     "data": {
      "text/plain": [
       "[10, 9, 8, 7, 6, 5, 4, 3, 2, 1]"
      ]
     },
     "execution_count": 32,
     "metadata": {},
     "output_type": "execute_result"
    }
   ],
   "source": [
    "list(range(10,0,-1))"
   ]
  },
  {
   "cell_type": "code",
   "execution_count": 22,
   "metadata": {
    "collapsed": false
   },
   "outputs": [
    {
     "name": "stdout",
     "output_type": "stream",
     "text": [
      "번호: 1\n",
      "번호: 3\n",
      "번호: 5\n",
      "번호: 7\n",
      "번호: 9\n",
      "break 없이 for문이 정상적으로 종료\n"
     ]
    }
   ],
   "source": [
    "nums = range(10)\n",
    "for i in nums:\n",
    "    if i%2 == 0: \n",
    "        continue\n",
    "    print('번호:', i)\n",
    "else:\n",
    "    print('break 없이 for문이 정상적으로 종료')"
   ]
  },
  {
   "cell_type": "code",
   "execution_count": 24,
   "metadata": {
    "collapsed": false
   },
   "outputs": [
    {
     "name": "stdout",
     "output_type": "stream",
     "text": [
      "번호: 0\n",
      "번호: 1\n",
      "번호: 2\n",
      "번호: 3\n",
      "번호: 4\n",
      "번호: 5\n"
     ]
    }
   ],
   "source": [
    "nums = range(10)\n",
    "for i in nums:\n",
    "    if i > 5:\n",
    "        break\n",
    "    print('번호:', i)\n",
    "else:\n",
    "    print('... 나 출력되면 안 돼')"
   ]
  },
  {
   "cell_type": "code",
   "execution_count": 35,
   "metadata": {
    "collapsed": false
   },
   "outputs": [
    {
     "name": "stdout",
     "output_type": "stream",
     "text": [
      "1 사과\n",
      "2 오렌지\n",
      "3 바나나\n"
     ]
    }
   ],
   "source": [
    "fruits = ['사과', '오렌지', '바나나']\n",
    "\n",
    "for index, value in enumerate(fruits):\n",
    "    print(index+1, value)"
   ]
  },
  {
   "cell_type": "markdown",
   "metadata": {},
   "source": [
    "세 과목의 성적을 다음과 같이 출력하시오.\n",
    "\n",
    "1 프로그래밍 90\n",
    "2 수학 95\n",
    "3 영어 75"
   ]
  },
  {
   "cell_type": "markdown",
   "metadata": {},
   "source": [
    "52장의 포커 카드가 있다. 이 카드를 사용해 블랙잭 게임을 한다.\n",
    "\n",
    "블랙잭 게임은 각 참가자가 처음에 두 장의 카드를 받는다.\n",
    "각 카드의 숫자를 모두 더 해 21인지 확인한다.\n",
    "\n",
    "- 21이면 블랙잭! 게임이 종료되고 승리한다.\n",
    "- 숫자의 합이 21보다 작으면 한 장의 카드를 더 받는다.\n",
    "- 숫자의 합이 21보다 크면 게임에서 패배한다."
   ]
  },
  {
   "cell_type": "code",
   "execution_count": 89,
   "metadata": {
    "collapsed": false
   },
   "outputs": [
    {
     "name": "stdout",
     "output_type": "stream",
     "text": [
      "Clover 6 Diamond 4 Total= 10\n",
      "인생을 계속 살아봐야 아는 거지 ... 한 장 더\n",
      "Clover 6 Diamond 4 Clover J Total= 21\n",
      "블랙잭!!!!!!!\n"
     ]
    }
   ],
   "source": [
    "import random\n",
    "\n",
    "# 52장의 카드덱 생성\n",
    "def 카드덱생성():\n",
    "    카드숫자 = list(range(2,11))+['J', 'Q', 'K', 'A']\n",
    "    카드문양 = ['Spade', 'Heart', 'Diamond', 'Clover']\n",
    "    \n",
    "    카드덱 = [] # 카드덱 초기화\n",
    "    for 문양 in 카드문양:\n",
    "        for 숫자 in 카드숫자:\n",
    "            print(문양,숫자)\n",
    "            카드덱.append([문양, 숫자])\n",
    "            \n",
    "    # 잘 섞기\n",
    "    random.shuffle(카드덱)\n",
    "    return 카드덱\n",
    "\n",
    "# 블랙잭 게임 시작\n",
    "카드덱=카드덱생성()\n",
    "\n",
    "# 카드 두 장 받기\n",
    "카드패 = [카드덱.pop(), 카드덱.pop()]\n",
    "print('카드패:', 카드패)\n",
    "\n",
    "# TODO: 블랙잭 평가\n",
    "while True:\n",
    "    # 현재 hand의 카드의 숫자를 모두 더한다.\n",
    "    total=0\n",
    "    for card in hand:\n",
    "        # 현재 카드 출력\n",
    "        print(card[0], card[1], end=' ')\n",
    "        \n",
    "        if card[1]=='A':\n",
    "            total = total + 14\n",
    "        elif card[1]=='K':\n",
    "            total = total + 13\n",
    "        elif card[1] == 'Q':\n",
    "            total = total + 12\n",
    "        elif card[1] == 'J':\n",
    "            total = total + 11\n",
    "        else:\n",
    "            # 숫자인 경우는 그냥 더해준다.\n",
    "            total = total + card[1]\n",
    "    \n",
    "    print('Total=', total)\n",
    "    if total == 21:\n",
    "        result = '블랙잭!!!!!!!'\n",
    "        print(result)\n",
    "        break\n",
    "    elif total > 21:\n",
    "        result = '돈 잃었다...'\n",
    "        print(result)\n",
    "        break\n",
    "    elif total < 21:\n",
    "        # 카드를 한 장 더 받는다.\n",
    "        hand.append(deck.pop())\n",
    "        result = '인생을 계속 살아봐야 아는 거지 ... 한 장 더'\n",
    "        print(result)"
   ]
  },
  {
   "cell_type": "code",
   "execution_count": 73,
   "metadata": {
    "collapsed": false
   },
   "outputs": [
    {
     "name": "stdout",
     "output_type": "stream",
     "text": [
      "[1, 0, 4, 3, 2]\n"
     ]
    }
   ],
   "source": [
    "nums = list(range(5))\n",
    "# 무작위로 섞기 (shuffle)\n",
    "import random\n",
    "random.shuffle(nums)\n",
    "print(nums)"
   ]
  },
  {
   "cell_type": "code",
   "execution_count": 47,
   "metadata": {
    "collapsed": false
   },
   "outputs": [
    {
     "ename": "ValueError",
     "evalue": "invalid literal for int() with base 10: 'A'",
     "output_type": "error",
     "traceback": [
      "\u001b[0;31m---------------------------------------------------------------------------\u001b[0m\n\u001b[0;31mValueError\u001b[0m                                Traceback (most recent call last)",
      "\u001b[0;32m<ipython-input-47-0da6d315d7ad>\u001b[0m in \u001b[0;36m<module>\u001b[0;34m()\u001b[0m\n\u001b[0;32m----> 1\u001b[0;31m \u001b[0mint\u001b[0m\u001b[0;34m(\u001b[0m\u001b[0;34m'A'\u001b[0m\u001b[0;34m)\u001b[0m\u001b[0;34m\u001b[0m\u001b[0m\n\u001b[0m",
      "\u001b[0;31mValueError\u001b[0m: invalid literal for int() with base 10: 'A'"
     ]
    }
   ],
   "source": [
    "int('A')"
   ]
  },
  {
   "cell_type": "code",
   "execution_count": 48,
   "metadata": {
    "collapsed": false
   },
   "outputs": [
    {
     "data": {
      "text/plain": [
       "14"
      ]
     },
     "execution_count": 48,
     "metadata": {},
     "output_type": "execute_result"
    }
   ],
   "source": [
    "int('14')"
   ]
  },
  {
   "cell_type": "markdown",
   "metadata": {},
   "source": [
    "교재 p.70"
   ]
  },
  {
   "cell_type": "code",
   "execution_count": 59,
   "metadata": {
    "collapsed": false
   },
   "outputs": [
    {
     "name": "stdout",
     "output_type": "stream",
     "text": [
      "5\n",
      "25\n"
     ]
    }
   ],
   "source": [
    "value = 5\n",
    "while value < 100:\n",
    "    print(value)\n",
    "    value = value**2"
   ]
  },
  {
   "cell_type": "code",
   "execution_count": 91,
   "metadata": {
    "collapsed": false
   },
   "outputs": [
    {
     "name": "stdout",
     "output_type": "stream",
     "text": [
      "A B\n"
     ]
    }
   ],
   "source": [
    "print('A', end=' ')\n",
    "print('B')"
   ]
  },
  {
   "cell_type": "markdown",
   "metadata": {},
   "source": [
    "교재 p.33"
   ]
  },
  {
   "cell_type": "code",
   "execution_count": 23,
   "metadata": {
    "collapsed": false
   },
   "outputs": [
    {
     "name": "stdout",
     "output_type": "stream",
     "text": [
      "빨강\n",
      "노랑\n",
      "banana 노랑\n",
      "apple 빨강\n",
      "['banana', 'apple']\n",
      "True\n",
      "False\n",
      "False\n"
     ]
    }
   ],
   "source": [
    "colors = {'apple': '빨강', 'banana': '노랑'}\n",
    "print(colors['apple'])\n",
    "print(colors['banana'])\n",
    "\n",
    "for k, v in colors.items():\n",
    "    print(k,v)\n",
    "    \n",
    "print(list(colors.keys()))\n",
    "\n",
    "alist = [1,2,3,4,6,7,8]\n",
    "print(3 in alist)\n",
    "print(5 in alist)\n",
    "\n",
    "print('melon' in list(colors.keys()))"
   ]
  },
  {
   "cell_type": "code",
   "execution_count": 29,
   "metadata": {
    "collapsed": false
   },
   "outputs": [
    {
     "name": "stdout",
     "output_type": "stream",
     "text": [
      "나이 정보가 없습니다.\n"
     ]
    }
   ],
   "source": [
    "person = {'이름': '이성주', '성별': '남자'}\n",
    "if not '나이' in list(person.keys()):\n",
    "    print('나이 정보가 없습니다.')"
   ]
  },
  {
   "cell_type": "code",
   "execution_count": 3,
   "metadata": {
    "collapsed": false
   },
   "outputs": [
    {
     "data": {
      "text/plain": [
       "[0, 1, 2, 3, 4, 5, 6, 7, 8, 9]"
      ]
     },
     "execution_count": 3,
     "metadata": {},
     "output_type": "execute_result"
    }
   ],
   "source": [
    "list(range(10**8))[-10:0]"
   ]
  },
  {
   "cell_type": "markdown",
   "metadata": {},
   "source": [
    "### 사전 (교재 p.33)\n",
    "\n",
    "각 사람은 이름, 이메일, 나이의 정보를 갖는다. 이 사람들의 정보를\n",
    "{name: ... , email: ... , age:...}와 같은 형태로 \n",
    "표현한다.\n",
    "\n",
    "세 명의 사람의 정보를 설정하시오.\n",
    "\n",
    "a. 전화번호 정보를 추가하시오.\n",
    "b. 모든 사람의 나이에 1을 더해 정보를 갱신하시오."
   ]
  },
  {
   "cell_type": "code",
   "execution_count": 14,
   "metadata": {
    "collapsed": false
   },
   "outputs": [
    {
     "name": "stdout",
     "output_type": "stream",
     "text": [
      "21\n",
      "sa@gmail.com\n",
      "{'age': 21, 'name': '탁형준', 'email': 'tak@email.com', 'phone': '01012345678'}\n",
      "이성주은 32살.\n",
      "탁형준은 22살.\n",
      "사예림은 22살.\n"
     ]
    }
   ],
   "source": [
    "person1 = {'name':'이성주', 'email': 'seongjoo@codebasic.co', 'age':31}\n",
    "person2 = {'name': '탁형준', 'email': 'tak@email.com', 'age': 21}\n",
    "person3 = {'name': '사예림', 'email': 'sa@email.com', 'age': 21}\n",
    "\n",
    "print(person3['age'])\n",
    "# 사전 정보 수정\n",
    "person3['email']='sa@gmail.com'\n",
    "print(person3['email'])\n",
    "person2['phone']='01012345678'\n",
    "print(person2)\n",
    "\n",
    "# 모든 사람\n",
    "for p in [person1, person2, person3]:\n",
    "    print(p)\n",
    "\n",
    "print(person1, person2, person3, sep='\\n')\n",
    "    \n",
    "for p in [person1, person2, person3]:\n",
    "    p['age'] = p['age']+1\n",
    "    \n",
    "# '홍길동은 5살. 이메일은 dong@email.com'\n",
    "for p in [person1, person2, person3]:\n",
    "    print(p['name'], '은 ', p['age'], '살.', sep='')\n"
   ]
  },
  {
   "cell_type": "code",
   "execution_count": 16,
   "metadata": {
    "collapsed": false
   },
   "outputs": [
    {
     "name": "stdout",
     "output_type": "stream",
     "text": [
      "dict_keys(['이름'])\n"
     ]
    },
    {
     "ename": "KeyError",
     "evalue": "'email'",
     "output_type": "error",
     "traceback": [
      "\u001b[0;31m---------------------------------------------------------------------------\u001b[0m\n\u001b[0;31mKeyError\u001b[0m                                  Traceback (most recent call last)",
      "\u001b[0;32m<ipython-input-16-7f21bfe35b15>\u001b[0m in \u001b[0;36m<module>\u001b[0;34m()\u001b[0m\n\u001b[1;32m      1\u001b[0m \u001b[0mperson\u001b[0m\u001b[0;34m=\u001b[0m\u001b[0;34m{\u001b[0m\u001b[0;34m'이름'\u001b[0m\u001b[0;34m:\u001b[0m\u001b[0;34m'이성주'\u001b[0m\u001b[0;34m}\u001b[0m\u001b[0;34m\u001b[0m\u001b[0m\n\u001b[1;32m      2\u001b[0m \u001b[0mprint\u001b[0m\u001b[0;34m(\u001b[0m\u001b[0mperson\u001b[0m\u001b[0;34m.\u001b[0m\u001b[0mkeys\u001b[0m\u001b[0;34m(\u001b[0m\u001b[0;34m)\u001b[0m\u001b[0;34m)\u001b[0m\u001b[0;34m\u001b[0m\u001b[0m\n\u001b[0;32m----> 3\u001b[0;31m \u001b[0mprint\u001b[0m\u001b[0;34m(\u001b[0m\u001b[0mperson\u001b[0m\u001b[0;34m[\u001b[0m\u001b[0;34m'email'\u001b[0m\u001b[0;34m]\u001b[0m\u001b[0;34m)\u001b[0m\u001b[0;34m\u001b[0m\u001b[0m\n\u001b[0m",
      "\u001b[0;31mKeyError\u001b[0m: 'email'"
     ]
    }
   ],
   "source": [
    "person={'이름':'이성주'}\n",
    "print(person.keys())\n",
    "print(person['email'])"
   ]
  },
  {
   "cell_type": "markdown",
   "metadata": {},
   "source": [
    "# 함수"
   ]
  },
  {
   "cell_type": "code",
   "execution_count": 30,
   "metadata": {
    "collapsed": false
   },
   "outputs": [
    {
     "name": "stdout",
     "output_type": "stream",
     "text": [
      "12\n"
     ]
    }
   ],
   "source": [
    "def multiply(a,b):\n",
    "    return a*b\n",
    "\n",
    "print(multiply(3,4))"
   ]
  },
  {
   "cell_type": "code",
   "execution_count": 32,
   "metadata": {
    "collapsed": false
   },
   "outputs": [
    {
     "name": "stdout",
     "output_type": "stream",
     "text": [
      "(2, 1)\n"
     ]
    }
   ],
   "source": [
    "def swap(x,y):\n",
    "    return (y,x)\n",
    "\n",
    "print(swap(1,2))"
   ]
  },
  {
   "cell_type": "code",
   "execution_count": 53,
   "metadata": {
    "collapsed": false
   },
   "outputs": [
    {
     "name": "stdout",
     "output_type": "stream",
     "text": [
      "좋은 아침!\n",
      "추운 아침 ㅡㅠㅡ\n"
     ]
    }
   ],
   "source": [
    "def sayHi(hour, morning='좋은 아침!'):\n",
    "    if 6< hour <12:\n",
    "        print(morning)\n",
    "    else:\n",
    "        print('밥 먹자')\n",
    "        \n",
    "sayHi(11)\n",
    "sayHi(11, '추운 아침 ㅡㅠㅡ')\n"
   ]
  },
  {
   "cell_type": "markdown",
   "metadata": {},
   "source": [
    "리스트의 마지막 항목을 반환하는 함수 작성하기"
   ]
  },
  {
   "cell_type": "code",
   "execution_count": 37,
   "metadata": {
    "collapsed": false
   },
   "outputs": [
    {
     "name": "stdout",
     "output_type": "stream",
     "text": [
      "5\n"
     ]
    }
   ],
   "source": [
    "def get_last_item(some_list):\n",
    "    return some_list[-1]\n",
    "\n",
    "nums = [1,2,3,4,5]\n",
    "print(get_last_item(nums))"
   ]
  },
  {
   "cell_type": "code",
   "execution_count": 74,
   "metadata": {
    "collapsed": false
   },
   "outputs": [
    {
     "name": "stdout",
     "output_type": "stream",
     "text": [
      "Exit 1\n",
      "Exit 2\n",
      "그런 출구는 없습니다.\n"
     ]
    }
   ],
   "source": [
    "# return의 효과\n",
    "def many_exits(exit_no):\n",
    "    if exit_no==1:\n",
    "        return 'Exit 1'\n",
    "    if exit_no==2:\n",
    "        return 'Exit 2'\n",
    "    if exit_no==3:\n",
    "        return 'Exit 3'\n",
    "    \n",
    "    return '그런 출구는 없습니다.'\n",
    "\n",
    "print(many_exits(1))\n",
    "print(many_exits(2))\n",
    "print(many_exits(9))"
   ]
  },
  {
   "cell_type": "markdown",
   "metadata": {},
   "source": [
    "#### 도전 과제\n",
    "\n",
    "피보나치 수열은 다음과 같다.\n",
    "\n",
    "0 1 1 2 3 5 8\n",
    "\n",
    "a. 두 개의 연속된 피보나치 수열의 원소를 받아 다음 피보나치 수열 원소를 생성하는 함수 get_next_fibonacci 함수를 작성하시오.\n",
    "\n",
    "b. 작성한 함수로 100개의 피보나치 수열 생성하기. 0,1로 시작\n",
    "\n",
    "c. 임의의 n개의 피보나치 수열을 리스트로 반환하는 함수 generate_fibo를 작성하시오. \n",
    "\n",
    "d. generate_fibo 호출 시, 인자를 설정하지 않으면 수열은 0,1로 시작하고, 10개를 생성하도록 만드시오."
   ]
  },
  {
   "cell_type": "code",
   "execution_count": 43,
   "metadata": {
    "collapsed": false
   },
   "outputs": [
    {
     "name": "stdout",
     "output_type": "stream",
     "text": [
      "5\n"
     ]
    },
    {
     "data": {
      "text/plain": [
       "[0, 1, 1, 2, 3, 5, 8, 13, 21, 34]"
      ]
     },
     "execution_count": 43,
     "metadata": {},
     "output_type": "execute_result"
    }
   ],
   "source": [
    "def get_next_fibonacci(first, second):\n",
    "    third = first+second\n",
    "    return third\n",
    "\n",
    "# print(get_next_fibonacci(2,3))\n",
    "\n",
    "# n 개 생성하기\n",
    "def generate_fibo(n):\n",
    "    fibos = [0,1]\n",
    "    while len(fibos) < n:\n",
    "        fibos.append(get_next_fibonacci(fibos[-2],fibos[-1]))\n",
    "    return fibos\n",
    "\n",
    "result1 = generate_fibo(10)\n",
    "result2 = generate_fibo(20)"
   ]
  },
  {
   "cell_type": "markdown",
   "metadata": {},
   "source": [
    "p.50"
   ]
  },
  {
   "cell_type": "code",
   "execution_count": 51,
   "metadata": {
    "collapsed": false
   },
   "outputs": [
    {
     "name": "stdout",
     "output_type": "stream",
     "text": [
      "12\n",
      "2\n",
      "4\n",
      "6\n",
      "10\n"
     ]
    }
   ],
   "source": [
    "def multiply(a=3,b=4):\n",
    "    return a*b\n",
    "\n",
    "print(multiply())\n",
    "print(multiply(1,2))\n",
    "print(multiply(1))\n",
    "print(multiply(b=2))\n",
    "print(multiply(b=2, a=5))"
   ]
  },
  {
   "cell_type": "markdown",
   "metadata": {},
   "source": [
    "#### 도전과제\n",
    "\n",
    "리스트, 문자열과 같은 시퀀스를 받아서 홀수번째 원소만 선택해 반환하는 함수 its_odd를 정의하시오.\n",
    "\n",
    "예: \n",
    "\n",
    "    result = its_odd('파이썬')\n",
    "    print(result) # '파썬'\n",
    "    \n",
    "    result = its_odd([1,2,3,4,5])\n",
    "    print(result) # [1,3,5]"
   ]
  },
  {
   "cell_type": "code",
   "execution_count": 59,
   "metadata": {
    "collapsed": false
   },
   "outputs": [
    {
     "name": "stdout",
     "output_type": "stream",
     "text": [
      "파썬\n",
      "[1, 3, 5]\n"
     ]
    }
   ],
   "source": [
    "# solved by 서정원 \n",
    "def its_odd(input_seq):\n",
    "    return input_seq[0::2]\n",
    "\n",
    "result = its_odd('파이썬')\n",
    "print(result)\n",
    "\n",
    "result = its_odd([1,2,3,4,5])\n",
    "print(result)"
   ]
  },
  {
   "cell_type": "code",
   "execution_count": 64,
   "metadata": {
    "collapsed": false
   },
   "outputs": [
    {
     "data": {
      "text/plain": [
       "True"
      ]
     },
     "execution_count": 64,
     "metadata": {},
     "output_type": "execute_result"
    }
   ],
   "source": [
    "text='파이썬'\n",
    "type(text)==str"
   ]
  },
  {
   "cell_type": "code",
   "execution_count": 66,
   "metadata": {
    "collapsed": false
   },
   "outputs": [
    {
     "data": {
      "text/plain": [
       "'1111'"
      ]
     },
     "execution_count": 66,
     "metadata": {},
     "output_type": "execute_result"
    }
   ],
   "source": [
    "'1'+'1'+'1'+'1'"
   ]
  },
  {
   "cell_type": "code",
   "execution_count": 71,
   "metadata": {
    "collapsed": false
   },
   "outputs": [
    {
     "name": "stdout",
     "output_type": "stream",
     "text": [
      "파\n",
      "파이\n",
      "파이썬\n"
     ]
    }
   ],
   "source": [
    "shuffled_text = ''\n",
    "for char in ['파', '이', '썬']:\n",
    "    shuffled_text = shuffled_text + char\n",
    "    print(shuffled_text)"
   ]
  },
  {
   "cell_type": "markdown",
   "metadata": {},
   "source": [
    "#### 도전과제\n",
    "\n",
    "리스트, 문자열과 같은 시퀀스를 인자로 받아 무작위로 섞어서 반환하는 함수 shuffle_up를 정의하시오. 함수 내에서 random 모듈을 사용하시오.\n",
    "\n",
    "예: \n",
    "    \n",
    "    \n",
    "    shuffled = shuffle_up([1,2,3])\n",
    "    print(shuffled) # [3,1,2]\n",
    "    shuffled = shuffle_up('파이썬')\n",
    "    print(shuffled) # 썬파이"
   ]
  },
  {
   "cell_type": "code",
   "execution_count": 70,
   "metadata": {
    "collapsed": false
   },
   "outputs": [
    {
     "name": "stdout",
     "output_type": "stream",
     "text": [
      "[4, 2, 6, 5, 3, 8, 1, 7]\n",
      " 은썬다면쉽!파이서\n"
     ]
    }
   ],
   "source": [
    "def shuffle_up(input_seq):\n",
    "    import random\n",
    "\n",
    "    # 문자열인 경우\n",
    "    if type(input_seq)==str:\n",
    "        # random.shuffle이 적용되도록 리스트로 변경\n",
    "        temp_list = []\n",
    "        for s in input_seq:\n",
    "            temp_list.append(s)\n",
    "        random.shuffle(temp_list)\n",
    "        # 다시 문자열로 변환\n",
    "        shuffled_text = ''\n",
    "        for char in temp_list:\n",
    "            shuffled_text = shuffled_text + char\n",
    "        \n",
    "        # 결과 반환\n",
    "        return shuffled_text\n",
    "    \n",
    "    \n",
    "    random.shuffle(input_seq)\n",
    "    return input_seq\n",
    "\n",
    "result = shuffle_up([1,2,3,4,5,6,7,8])\n",
    "print(result)\n",
    "\n",
    "result = shuffle_up('파이썬은 쉽다면서!')\n",
    "print(result)"
   ]
  },
  {
   "cell_type": "markdown",
   "metadata": {},
   "source": [
    "### 프로젝트\n",
    "\n",
    "커플 경고\n",
    "\n",
    "강의장에 있는 사람들은 각각 이름, 성별, 나이의 정보를 갖는다. 남자친구 또는 여자친구가 있는 사람은 그 사람의 이름을 '남친' 또는 '여친'에 저장한다. \n",
    "\n",
    "예시: \n",
    "{'이름': '방자', '성별': '남자', '나이': 22}\n",
    "{'이름': '홍길동', '성별': '남자', '나이': 21, '애인': '성춘향'}\n",
    "{'이름': '성춘향', '성별': '여자', '나이': 20, '애인': '홍길동'}\n",
    "\n",
    "\n",
    "a. 남친 또는 여친 정보를 확인해 다음과 같이 출력한다.\n",
    "\n",
    "예시: \n",
    "    홍길동의 여친은 성춘향입니다.\n",
    "    성춘향의 남친은 홍길동입니다.\n",
    "    방자는 ... 모태솔로입니다.\n",
    "    \n",
    "b. 애인이 있는 경우, 현재 같은 강의장에 있는지 다음과 같이 출력한다.\n",
    "\n",
    "    홍길동의 여친은 성춘향입니다. 그리고 같은 교실에 있습니다.\n",
    "    이몽룡의 여친은 향단이입니다. \n",
    "\n",
    "무작위로 사람들을 좌석을 배정한다. 그런데 어느 두 명이 커플인데, 꼭 같이 앉아야 한다고 '극구' 부탁을 했다. 그래서 무작위로 배정하되, 모든 커플이 나란히 같이 앉을 때까지 좌석 배정을 계속 반복한다.\n",
    "\n",
    "모든 커플이 나란히 같이 앉을 때까지 몇 번이나 좌석배정을 무작위로 생성했는지와, 좌석 배정 결과를 출력하시오."
   ]
  },
  {
   "cell_type": "markdown",
   "metadata": {},
   "source": [
    "python_class = []\n",
    "\n",
    "python_class.append({'이름': '김동훈', '나이': 22, '성별': '남자', '애인': '박지안'})\n",
    "python_class.append({'이름': '박지안', '나이': 22, '성별': '여자', '애인': '김동훈'})\n",
    "python_class.append({'이름': '탁형준', '나이': 21, '성별': '남자'})\n",
    "python_class.append({'이름': '장대윤', '나이': 23, '성별': '남자', '애인': 'H'})\n",
    "python_class.append({'이름': '김도희', '나이': 22, '성별': '여자', '애인': '김승현'})\n",
    "python_class.append({'이름': '이혜인', '나이': 22, '성별': '여자', '애인': 'MS'})\n",
    "python_class.append({'이름':'최현규', '나이': 20, '성별':'남자'})\n",
    "\n",
    "def isKeyExist(adict, key):\n",
    "    if key in list(adict.keys()):\n",
    "        return True # 키가 있는 경우\n",
    "    return False # 키가 없는 경우\n",
    "\n",
    "def isInSameClass(person, group): \n",
    "    # 같은 교실에 있는지 확인\n",
    "    애인 = person['애인']\n",
    "    \n",
    "    for other in group:\n",
    "        if other['이름']==애인:\n",
    "            return True # 같은 그룹에서 찾은 경우\n",
    "\n",
    "    return False # 같은 교실에 없는 경우\n",
    "\n",
    "def check_bf_gf(person, group):\n",
    "    # '애인' 유무 확인\n",
    "    if isKeyExist(person, '애인'):\n",
    "        if person['성별']=='여자':\n",
    "            verdict = person['이름']+'의 남친은 '+person['애인']\n",
    "        else:\n",
    "            verdict= person['이름']+'의 여친은 '+person['애인']\n",
    "\n",
    "        # TO-DO: 같은 강의장에 있는지 확인\n",
    "        if isInSameClass(person, group):\n",
    "            verdict = verdict + ' 그리고 둘이 같은 교실에 있습니다.'\n",
    "    else:\n",
    "        # 없는 경우\n",
    "        verdict=person['이름']+'은 ... 음... ㅠ_ㅠ'\n",
    "    \n",
    "    return verdict\n",
    "            \n",
    "# 함수 호출\n",
    "for person in python_class:\n",
    "    result=check_bf_gf(person, python_class)\n",
    "    print(result)"
   ]
  },
  {
   "cell_type": "markdown",
   "metadata": {},
   "source": [
    "### 프로젝트\n",
    "\n",
    "카페 주문 시스템 만들기\n",
    "\n",
    "다음의 기능을 수행하는 카페 주문 시스템을 만든다.\n",
    "\n",
    "1. 손님이 주문한 메뉴를 제공할 수 있는지 확인한다. 주문한 메뉴를 제공할 수 없으면 'NA'를 반환한다.\n",
    "2. 각 메뉴에 따라 금액을 청구한다.\n",
    "3. 다양한 크기와 선택사항 (예: 저지방 우유, 시럽 등)을 추가할 수 있도록 변경한다.\n",
    "4. 동시에 여러 메뉴를 주문할 수 있도록 변경한다.\n",
    "\n",
    "예시:\n",
    "\n",
    "    menu, price = order_coffee('카페라떼')\n",
    "    if menu == 'NA':\n",
    "        print('그런 메뉴 없어요')\n",
    "    print('주문하신 ', menu, '는', price, '입니다.')"
   ]
  },
  {
   "cell_type": "code",
   "execution_count": 106,
   "metadata": {
    "collapsed": false
   },
   "outputs": [
    {
     "name": "stdout",
     "output_type": "stream",
     "text": [
      "4.5\n",
      "0.3\n"
     ]
    }
   ],
   "source": [
    "def 콩다방(주문):\n",
    "    메뉴목록 = [{'메뉴명': '라떼', '가격': 4}, \n",
    "            {'메뉴명':'아메리카노', '가격': 3}]\n",
    "\n",
    "    메뉴목록.append({'메뉴명':주문})\n",
    "\n",
    "def 별다방(주문, 주문선택):\n",
    "    메뉴목록 = [{'메뉴명': '라떼', '가격': 4}, \n",
    "            {'메뉴명':'아메리카노', '가격': 3}]\n",
    "    \n",
    "    선택메뉴 = [{'선택명':'저지방 우유', '가격':0}, \n",
    "              {'선택명': '바닐라 시럽', '가격': 0.5}, \n",
    "              {'선택명': '디카페인', '가격': 0.3}]\n",
    "\n",
    "    가격 = 0 # 초기화\n",
    "    # 기본 메뉴 가격\n",
    "    for 메뉴 in 메뉴목록:\n",
    "        if 주문 == 메뉴['메뉴명']:\n",
    "            가격 = 메뉴['가격'] # 있으면 가격 반환\n",
    "        \n",
    "            # 선택 사항에 따른 가격 추가\n",
    "            for 선택 in 선택메뉴:\n",
    "                if  주문선택 == 선택['선택명']:\n",
    "                    # 선택 메뉴의 가격을 더한다.\n",
    "                    가격 += 선택['가격']\n",
    "\n",
    "    # 최종 가격 반환\n",
    "    return 가격\n",
    "\n",
    "print(별다방('라떼', '바닐라 시럽'))\n",
    "print(별다방('녹차', '디카페인'))"
   ]
  },
  {
   "cell_type": "code",
   "execution_count": 85,
   "metadata": {
    "collapsed": false
   },
   "outputs": [
    {
     "ename": "AttributeError",
     "evalue": "'list' object has no attribute 'keys'",
     "output_type": "error",
     "traceback": [
      "\u001b[0;31m---------------------------------------------------------------------------\u001b[0m\n\u001b[0;31mAttributeError\u001b[0m                            Traceback (most recent call last)",
      "\u001b[0;32m<ipython-input-85-fed4a47d8379>\u001b[0m in \u001b[0;36m<module>\u001b[0;34m()\u001b[0m\n\u001b[1;32m      4\u001b[0m \u001b[0madict\u001b[0m\u001b[0;34m.\u001b[0m\u001b[0mkeys\u001b[0m\u001b[0;34m(\u001b[0m\u001b[0;34m)\u001b[0m\u001b[0;34m\u001b[0m\u001b[0m\n\u001b[1;32m      5\u001b[0m \u001b[0;34m\u001b[0m\u001b[0m\n\u001b[0;32m----> 6\u001b[0;31m \u001b[0malist\u001b[0m\u001b[0;34m.\u001b[0m\u001b[0mkeys\u001b[0m\u001b[0;34m(\u001b[0m\u001b[0;34m)\u001b[0m \u001b[0;31m# 오류!\u001b[0m\u001b[0;34m\u001b[0m\u001b[0m\n\u001b[0m",
      "\u001b[0;31mAttributeError\u001b[0m: 'list' object has no attribute 'keys'"
     ]
    }
   ],
   "source": [
    "alist = [1,2]\n",
    "adict = {'1st':1, '2nd':2}\n",
    "\n",
    "adict.keys() # --> adict는 사전 형식이니까, 모든 키 목록을 가져왓\n",
    "get_keys(adict)\n",
    "\n",
    "'''\n",
    "멍멍이.짖어() # --> 왈왈!\n",
    "야옹이.짖어() # --> 야옹...?\n",
    "\n",
    "멍멍이, 짖어()\n",
    "\n",
    "알람시계.snooze()\n",
    "'''\n",
    "\n",
    "menu = [{}, {}]\n",
    "menu[0].keys()\n",
    "menu[1].keys()\n",
    "\n",
    "alist.keys() # 오류!"
   ]
  },
  {
   "cell_type": "code",
   "execution_count": 99,
   "metadata": {
    "collapsed": false
   },
   "outputs": [
    {
     "ename": "NameError",
     "evalue": "name '껌' is not defined",
     "output_type": "error",
     "traceback": [
      "\u001b[0;31m---------------------------------------------------------------------------\u001b[0m\n\u001b[0;31mNameError\u001b[0m                                 Traceback (most recent call last)",
      "\u001b[0;32m<ipython-input-99-40a21a1066f5>\u001b[0m in \u001b[0;36m<module>\u001b[0;34m()\u001b[0m\n\u001b[1;32m      5\u001b[0m     \u001b[0m껌\u001b[0m\u001b[0;34m=\u001b[0m\u001b[0;36m1\u001b[0m\u001b[0;34m\u001b[0m\u001b[0m\n\u001b[1;32m      6\u001b[0m \u001b[0;34m\u001b[0m\u001b[0m\n\u001b[0;32m----> 7\u001b[0;31m \u001b[0m덤지수\u001b[0m\u001b[0;34m(\u001b[0m\u001b[0;36m2\u001b[0m\u001b[0;34m)\u001b[0m\u001b[0;34m\u001b[0m\u001b[0m\n\u001b[0m",
      "\u001b[0;32m<ipython-input-99-40a21a1066f5>\u001b[0m in \u001b[0;36m덤지수\u001b[0;34m(덤)\u001b[0m\n\u001b[1;32m      1\u001b[0m \u001b[0;32mdef\u001b[0m \u001b[0m덤지수\u001b[0m\u001b[0;34m(\u001b[0m\u001b[0m덤\u001b[0m\u001b[0;34m)\u001b[0m\u001b[0;34m:\u001b[0m\u001b[0;34m\u001b[0m\u001b[0m\n\u001b[0;32m----> 2\u001b[0;31m     \u001b[0;32mreturn\u001b[0m \u001b[0m덤\u001b[0m\u001b[0;34m+\u001b[0m\u001b[0m껌\u001b[0m\u001b[0;34m\u001b[0m\u001b[0m\n\u001b[0m\u001b[1;32m      3\u001b[0m \u001b[0;34m\u001b[0m\u001b[0m\n\u001b[1;32m      4\u001b[0m \u001b[0;32mdef\u001b[0m \u001b[0m썸지수\u001b[0m\u001b[0;34m(\u001b[0m\u001b[0;34m)\u001b[0m\u001b[0;34m:\u001b[0m\u001b[0;34m\u001b[0m\u001b[0m\n\u001b[1;32m      5\u001b[0m     \u001b[0m껌\u001b[0m\u001b[0;34m=\u001b[0m\u001b[0;36m1\u001b[0m\u001b[0;34m\u001b[0m\u001b[0m\n",
      "\u001b[0;31mNameError\u001b[0m: name '껌' is not defined"
     ]
    }
   ],
   "source": [
    "def 덤지수(덤):\n",
    "    return 덤+껌\n",
    "\n",
    "def 썸지수():\n",
    "    껌=1\n",
    "    \n",
    "덤지수(2)"
   ]
  },
  {
   "cell_type": "code",
   "execution_count": 109,
   "metadata": {
    "collapsed": false
   },
   "outputs": [
    {
     "ename": "TypeError",
     "evalue": "sum2() missing 1 required positional argument: 'y'",
     "output_type": "error",
     "traceback": [
      "\u001b[0;31m---------------------------------------------------------------------------\u001b[0m\n\u001b[0;31mTypeError\u001b[0m                                 Traceback (most recent call last)",
      "\u001b[0;32m<ipython-input-109-5caa2de03128>\u001b[0m in \u001b[0;36m<module>\u001b[0;34m()\u001b[0m\n\u001b[1;32m     13\u001b[0m     \u001b[0;32mreturn\u001b[0m \u001b[0mx\u001b[0m\u001b[0;34m+\u001b[0m\u001b[0my\u001b[0m\u001b[0;34m\u001b[0m\u001b[0m\n\u001b[1;32m     14\u001b[0m \u001b[0;34m\u001b[0m\u001b[0m\n\u001b[0;32m---> 15\u001b[0;31m \u001b[0mprint\u001b[0m\u001b[0;34m(\u001b[0m\u001b[0msum2\u001b[0m\u001b[0;34m(\u001b[0m\u001b[0mx\u001b[0m\u001b[0;34m)\u001b[0m\u001b[0;34m)\u001b[0m\u001b[0;34m\u001b[0m\u001b[0m\n\u001b[0m\u001b[1;32m     16\u001b[0m \u001b[0mprint\u001b[0m\u001b[0;34m(\u001b[0m\u001b[0mx\u001b[0m\u001b[0;34m)\u001b[0m\u001b[0;34m\u001b[0m\u001b[0m\n",
      "\u001b[0;31mTypeError\u001b[0m: sum2() missing 1 required positional argument: 'y'"
     ]
    }
   ],
   "source": [
    "a=10\n",
    "b=20\n",
    "\n",
    "def sum1(x,y):\n",
    "    return x+y\n",
    "\n",
    "sum1(a,b)\n",
    "\n",
    "x=10\n",
    "\n",
    "def sum2(x,y):\n",
    "    x=1\n",
    "    return x+y\n",
    "\n",
    "print(sum2(x))\n",
    "print(x)"
   ]
  },
  {
   "cell_type": "code",
   "execution_count": 112,
   "metadata": {
    "collapsed": false
   },
   "outputs": [
    {
     "name": "stdout",
     "output_type": "stream",
     "text": [
      "['아', '이', '썬']\n",
      "1\n"
     ]
    }
   ],
   "source": [
    "글자목록=[1,2,3]\n",
    "\n",
    "def 목록변경(x):\n",
    "    x[0]='아'\n",
    "\n",
    "목록변경(글자목록)\n",
    "\n",
    "print(글자목록)\n",
    "\n",
    "x = 1\n",
    "\n",
    "def 숫자변경(x):\n",
    "    x = 10\n",
    "\n",
    "숫자변경(x)\n",
    "print(x)"
   ]
  },
  {
   "cell_type": "markdown",
   "metadata": {},
   "source": [
    "#### 도전과제\n",
    "\n",
    "남녀탐구생활\n",
    "\n",
    "여친1기분=['오답', '정답', '오답', '오답', '오답', '정답']\n",
    "\n",
    "여친2기분 = ['정답', '정답', '오답']\n",
    "\n",
    "여친기분[남친대답]\n",
    "\n",
    "남친대답 = 0\n",
    "\n",
    "여친기분[남친대답]"
   ]
  },
  {
   "cell_type": "code",
   "execution_count": 124,
   "metadata": {
    "collapsed": false
   },
   "outputs": [
    {
     "name": "stdout",
     "output_type": "stream",
     "text": [
      "['오답', '오답', '정답', '오답', '정답', '오답', '오답', '오답', '오답', '오답']\n",
      "자기쵝오!\n"
     ]
    }
   ],
   "source": [
    "import random\n",
    "\n",
    "def 여친기분(이해심):\n",
    "    \n",
    "    기분 = [] # 초기화\n",
    "    while len(기분)<10:\n",
    "        현재여친감정 = random.randint(1,10)\n",
    "        if 현재여친감정 > 이해심:\n",
    "            # 오답\n",
    "            기분.append('오답')\n",
    "        else:\n",
    "            # 정답\n",
    "            기분.append('정답')\n",
    "            \n",
    "    return 기분\n",
    "            \n",
    "까다로운여친기분 = 여친기분(2)\n",
    "\n",
    "print(까다로운여친기분)\n",
    "\n",
    "남친대답 = random.randint(0,9)\n",
    "if 까다로운여친기분[남친대답]=='오답':\n",
    "    print('흥!')\n",
    "else:\n",
    "    print('자기쵝오!')"
   ]
  },
  {
   "cell_type": "markdown",
   "metadata": {},
   "source": [
    "### 도전과제\n",
    "\n",
    "주사위 두 개를 던져서 합을 구한다.\n",
    "\n",
    "a. 열 번을 던져서 합이 6이상 경우의 개수를 출력\n",
    "\n",
    "b. 합계가 6 이상이면 자본금 10 증가, 아니면 10 감소. 100번 시행 후 자본금이 얼마인지 출력. 자본금은 1000으로 시작한다.\n",
    "\n",
    "c. 주사위 두 개가 모두 2인 경우에만 자본금 20 증가하도록 한다. 아닌 경우는 자본금이 20 줄어든다. 10번을 수행해서 최종 자본금을 출력한다. 자본금은 1000으로 시작한다."
   ]
  },
  {
   "cell_type": "code",
   "execution_count": 140,
   "metadata": {
    "collapsed": false
   },
   "outputs": [
    {
     "name": "stdout",
     "output_type": "stream",
     "text": [
      "자본금= -920\n"
     ]
    }
   ],
   "source": [
    "import random\n",
    "\n",
    "자본금 = 1000 # 초기화\n",
    "for i in range(100):\n",
    "#    print('주사위를 두 개 던지자 ...')\n",
    "    주사위1=random.randint(1,6)\n",
    "    주사위2=random.randint(1,6)\n",
    "#    print('주사위:', 주사위1, 주사위2)\n",
    "    \n",
    "    if 주사위1==2 and 주사위2==2:\n",
    "        자본금 += 20\n",
    "    else:\n",
    "        자본금 -= 20\n",
    "    \n",
    "    # 이번 시행에서 자본금 변동 결과\n",
    "print('자본금=',자본금)\n"
   ]
  },
  {
   "cell_type": "code",
   "execution_count": 126,
   "metadata": {
    "collapsed": false
   },
   "outputs": [
    {
     "data": {
      "text/plain": [
       "[1, 2, 3, 4, 5]"
      ]
     },
     "execution_count": 126,
     "metadata": {},
     "output_type": "execute_result"
    }
   ],
   "source": [
    "list(range(1,6))"
   ]
  },
  {
   "cell_type": "markdown",
   "metadata": {},
   "source": [
    "# 입출력"
   ]
  },
  {
   "cell_type": "code",
   "execution_count": 1,
   "metadata": {
    "collapsed": false
   },
   "outputs": [
    {
     "name": "stdout",
     "output_type": "stream",
     "text": [
      "hi guys\n",
      "hi guys\n",
      "hi guys\n"
     ]
    }
   ],
   "source": [
    "# p.164\n",
    "print('hi guys')\n",
    "print('hi', 'guys')\n",
    "print('hi'+ ' guys')"
   ]
  },
  {
   "cell_type": "code",
   "execution_count": 2,
   "metadata": {
    "collapsed": false
   },
   "outputs": [
    {
     "name": "stdout",
     "output_type": "stream",
     "text": [
      "higuys\n",
      "hi...guys\n"
     ]
    }
   ],
   "source": [
    "print('hi', 'guys', sep='')\n",
    "print('hi', 'guys', sep='...')"
   ]
  },
  {
   "cell_type": "code",
   "execution_count": 12,
   "metadata": {
    "collapsed": false
   },
   "outputs": [
    {
     "name": "stdout",
     "output_type": "stream",
     "text": [
      "안녕\n",
      "하세요\n",
      "안녕\t하세요\n",
      "안녕      하세요\n",
      "안녕\t하세요\n",
      "따옴표 '가 많이 신경쓰여요\n",
      "따옴표 '가 많이 신경쓰여요\n"
     ]
    }
   ],
   "source": [
    "# 탈출(escape) 문자 활용\n",
    "print('안녕\\n하세요')\n",
    "print('안녕\\t하세요')\n",
    "print('안녕\\\n",
    "      ')\n",
    "\n",
    "print('안녕', end='\\t')\n",
    "print('하세요')\n",
    "\n",
    "print(\"따옴표 '가 많이 신경쓰여요\")\n",
    "# 따옴표 효과 해제\n",
    "print('따옴표 \\'가 많이 신경쓰여요')"
   ]
  },
  {
   "cell_type": "code",
   "execution_count": 13,
   "metadata": {
    "collapsed": false
   },
   "outputs": [
    {
     "name": "stdout",
     "output_type": "stream",
     "text": [
      "1 * 1 = 1\n",
      "2 * 2 = 4\n",
      "3 * 3 = 9\n",
      "4 * 4 = 16\n",
      "5 * 5 = 25\n"
     ]
    }
   ],
   "source": [
    "for x in range(1,6):\n",
    "    print(x, '*', x, '=', x*x)"
   ]
  },
  {
   "cell_type": "code",
   "execution_count": 18,
   "metadata": {
    "collapsed": false
   },
   "outputs": [
    {
     "name": "stdout",
     "output_type": "stream",
     "text": [
      "              오른쪽 정렬\n",
      "오른쪽 정렬\n",
      "       중앙 정렬        \n",
      "중앙 정렬\n",
      "왼쪽 정렬...은 원래 되는데 아랍어 등은 방향이 반대니까\n"
     ]
    }
   ],
   "source": [
    "print('오른쪽 정렬'.rjust(20))\n",
    "print('오른쪽 정렬'.rjust(1))\n",
    "\n",
    "print('중앙 정렬'.center(20))\n",
    "print('중앙 정렬'.center(1))\n",
    "\n",
    "print('왼쪽 정렬...은 원래 되는데 아랍어 등은 방향이 반대니까'.ljust(10))"
   ]
  },
  {
   "cell_type": "code",
   "execution_count": 19,
   "metadata": {
    "collapsed": false
   },
   "outputs": [
    {
     "name": "stdout",
     "output_type": "stream",
     "text": [
      "1 * 1 =   1\n",
      "2 * 2 =   4\n",
      "3 * 3 =   9\n",
      "4 * 4 =  16\n",
      "5 * 5 =  25\n"
     ]
    }
   ],
   "source": [
    "for x in range(1,6):\n",
    "    print(x, '*', x, '=', str(x*x).rjust(3))"
   ]
  },
  {
   "cell_type": "code",
   "execution_count": 20,
   "metadata": {
    "collapsed": false
   },
   "outputs": [
    {
     "name": "stdout",
     "output_type": "stream",
     "text": [
      "1 * 1 = 001\n",
      "2 * 2 = 004\n",
      "3 * 3 = 009\n",
      "4 * 4 = 016\n",
      "5 * 5 = 025\n"
     ]
    }
   ],
   "source": [
    "for x in range(1,6):\n",
    "    print(x, '*',x, '=', str(x*x).zfill(3))"
   ]
  },
  {
   "cell_type": "markdown",
   "metadata": {},
   "source": [
    "#### 도전과제\n",
    "\n",
    "다음과 같이 출력되도록 작성하시오.\n",
    "\n",
    "공학수학   확률통계   프로그래밍\n",
    "    90       85        95"
   ]
  },
  {
   "cell_type": "code",
   "execution_count": 33,
   "metadata": {
    "collapsed": false
   },
   "outputs": [
    {
     "name": "stdout",
     "output_type": "stream",
     "text": [
      "           Math           Stats      Programing\n",
      "             90              85              95\n"
     ]
    }
   ],
   "source": [
    "#print('공학수학'.rjust(10))\n",
    "#print('      Math', '     Stats')\n",
    "열너비=15\n",
    "print('Math'.rjust(열너비), 'Stats'.rjust(열너비), 'Programing'.rjust(열너비))\n",
    "print('90'.rjust(열너비), '85'.rjust(열너비), '95'.rjust(열너비))"
   ]
  },
  {
   "cell_type": "code",
   "execution_count": 36,
   "metadata": {
    "collapsed": false
   },
   "outputs": [
    {
     "name": "stdout",
     "output_type": "stream",
     "text": [
      "           공학수학            확률통계           프로그래밍\n",
      "             90              85              95\n"
     ]
    }
   ],
   "source": [
    "열너비=15\n",
    "print('공학수학'.rjust(열너비), '확률통계'.rjust(열너비), '프로그래밍'.rjust(열너비))\n",
    "print('90'.rjust(열너비), '85'.rjust(열너비), '95'.rjust(열너비))"
   ]
  },
  {
   "cell_type": "code",
   "execution_count": 38,
   "metadata": {
    "collapsed": false
   },
   "outputs": [
    {
     "name": "stdout",
     "output_type": "stream",
     "text": [
      "10\n"
     ]
    }
   ],
   "source": [
    "# 한국어 등 멀티바이트 문자열 정렬 효과\n",
    "문자열길이=len('공학수학'.rjust(10))\n",
    "print(문자열길이)"
   ]
  },
  {
   "cell_type": "code",
   "execution_count": 52,
   "metadata": {
    "collapsed": false
   },
   "outputs": [
    {
     "name": "stdout",
     "output_type": "stream",
     "text": [
      "나는 이성주. 이메일은 seongjoo\n",
      "나는 이성주\n",
      "나는 이성주\n",
      "너는 김도훈\n",
      "그는 최현규\n",
      "그녀는 이혜인\n",
      "이성주의 이메일은 seongjoo@codebasic.co\n"
     ]
    }
   ],
   "source": [
    "## 문자열 형식(format)\n",
    "print('{0}는 {1}. 이메일은 {2}'.format('나', '이성주', 'seongjoo'))\n",
    "print('{대명사}는 {이름}'.format(대명사='나', 이름='이성주'))\n",
    "\n",
    "프로필목록 = [['나', '이성주'], ['너', '김도훈'], ['그', '최현규'], \n",
    "         ['그녀', '이혜인']]\n",
    "for 프로필 in 프로필목록:\n",
    "    print('{대명사}는 {이름}'.format(대명사=프로필[0], 이름=프로필[1]))\n",
    "\n",
    "프로필={'이름':'이성주', '이메일':'seongjoo@codebasic.co'}\n",
    "print('{이름}의 이메일은 {이메일}'.format(**프로필))"
   ]
  },
  {
   "cell_type": "markdown",
   "metadata": {},
   "source": [
    "#### 도전과제\n",
    "\n",
    "각 학생의 점수가 다음과 같은 구조로 저장되어 있다.\n",
    "\n",
    "점수목록=[{'이름': '이성주', \n",
    "         '과목점수': {'Math': 90, 'Stats': 85, 'Prog.': 95}},\n",
    "         {'이름': '손지훈',\n",
    "          '과목점수': ...}]\n",
    "\n",
    "다음과 같이 출력되도록 작성하시오.\n",
    "\n",
    "이름     Math    Stats     Prog.\n",
    "이성주      90       84        92\n",
    "손지훈      95       80        90\n",
    "\n",
    "전체 Math  평균  =  92.5 \n",
    "전체 Stats 평균  =  82\n",
    "전체 Prog. 평균  =  91"
   ]
  },
  {
   "cell_type": "code",
   "execution_count": 71,
   "metadata": {
    "collapsed": false
   },
   "outputs": [
    {
     "name": "stdout",
     "output_type": "stream",
     "text": [
      "        이름      Math     Stats     Prog.\n",
      "       이성주        90        84        92\n",
      "       손지훈        95        80        90\n"
     ]
    }
   ],
   "source": [
    "# 일단 자료를 잘 표현해 보자\n",
    "점수목록=[{'이름': '이성주', \n",
    "       '과목점수': {'Math': 90, 'Stats': 84, 'Prog.': 92}}, \n",
    "      {'이름': '손지훈', \n",
    "       '과목점수':{'Math': 95, 'Stats': 80, 'Prog.': 90}}]\n",
    "\n",
    "# 음... 뭔가 자료가 복잡하네. 일단 한 개만 잘 해보고\n",
    "# 나중에 반복문으로 만들어야지\n",
    "\n",
    "# 항목에 대해서 자료들을 먼저 제대로 가져와 보자\n",
    "# 1. 정렬은 나중에 생각해야지 ...\n",
    "# 2. 인제 잘 된다. 여러 개를 하도록 바꿔야지\n",
    "# 3. 인제 정보 읽기는 잘 되니까, 정렬을 맞춰봐야지\n",
    "\n",
    "열너비 = 10\n",
    "\n",
    "print('이름'.rjust(열너비), end='')\n",
    "print('Math'.rjust(열너비), end='')\n",
    "print('Stats'.rjust(열너비), end='')\n",
    "print('Prog.'.rjust(열너비))\n",
    "\n",
    "for 학생 in 점수목록:    \n",
    "    print(학생['이름'].rjust(열너비), end='')\n",
    "    # 과목점수 표시\n",
    "    print(str(학생['과목점수']['Math']).rjust(열너비), end='')\n",
    "    print(str(학생['과목점수']['Stats']).rjust(열너비), end='')\n",
    "    print(str(학생['과목점수']['Prog.']).rjust(열너비))"
   ]
  },
  {
   "cell_type": "code",
   "execution_count": 86,
   "metadata": {
    "collapsed": false
   },
   "outputs": [
    {
     "name": "stdout",
     "output_type": "stream",
     "text": [
      "1.3333333333333333\n",
      "1.3333333333333333\n",
      "1.333333e+00\n",
      "1.333333\n",
      "133.333333%\n",
      "2.500000\n",
      "2.000000\n",
      "1.666667\n",
      "1.7\n",
      "소수점 자리수 표현\n",
      "1.3\n",
      "1.33\n",
      "1.333\n"
     ]
    }
   ],
   "source": [
    "print(4/3)\n",
    "print('{0}'.format(4/3))\n",
    "# 소수점 표현 (기본 6자리)\n",
    "print('{0:f}'.format(4/3))\n",
    "print('{0:f}'.format(5/2))\n",
    "print('{0:f}'.format(2))\n",
    "\n",
    "print('소수점 자리수 표현')\n",
    "print('{0:.1f}'.format(4/3))\n",
    "print('{0:.2f}'.format(4/3))\n",
    "print('{0:.3f}'.format(4/3))\n",
    "\n",
    "# 소수점 개수를 선택하면 반올림\n",
    "print('{0:f}'.format(5/3))\n",
    "print('{0:.1f}'.format(5/3))\n",
    "\n",
    "# 그 밖의 양식\n",
    "print('{0:e}'.format(4/3))\n",
    "print('{0:%}'.format(4/3))"
   ]
  },
  {
   "cell_type": "code",
   "execution_count": 87,
   "metadata": {
    "collapsed": false
   },
   "outputs": [
    {
     "name": "stdout",
     "output_type": "stream",
     "text": [
      "3.1415\n"
     ]
    }
   ],
   "source": [
    "print('{0}'.format(3.1415))"
   ]
  },
  {
   "cell_type": "code",
   "execution_count": 88,
   "metadata": {
    "collapsed": false
   },
   "outputs": [
    {
     "name": "stdout",
     "output_type": "stream",
     "text": [
      "2015-01-28 11:09:55.362145\n"
     ]
    }
   ],
   "source": [
    "from datetime import datetime\n",
    "now = datetime.now()\n",
    "print(now)"
   ]
  },
  {
   "cell_type": "code",
   "execution_count": 93,
   "metadata": {
    "collapsed": false
   },
   "outputs": [
    {
     "name": "stdout",
     "output_type": "stream",
     "text": [
      "11720 days, 11:09:55.362145\n"
     ]
    }
   ],
   "source": [
    "diff = now-datetime(1982,12,27)\n",
    "print(diff)"
   ]
  },
  {
   "cell_type": "code",
   "execution_count": 91,
   "metadata": {
    "collapsed": false
   },
   "outputs": [
    {
     "ename": "AttributeError",
     "evalue": "'datetime.timedelta' object has no attribute 'year'",
     "output_type": "error",
     "traceback": [
      "\u001b[0;31m---------------------------------------------------------------------------\u001b[0m\n\u001b[0;31mAttributeError\u001b[0m                            Traceback (most recent call last)",
      "\u001b[0;32m<ipython-input-91-e718464a21e1>\u001b[0m in \u001b[0;36m<module>\u001b[0;34m()\u001b[0m\n\u001b[0;32m----> 1\u001b[0;31m \u001b[0mdiff\u001b[0m\u001b[0;34m.\u001b[0m\u001b[0myear\u001b[0m\u001b[0;34m\u001b[0m\u001b[0m\n\u001b[0m",
      "\u001b[0;31mAttributeError\u001b[0m: 'datetime.timedelta' object has no attribute 'year'"
     ]
    }
   ],
   "source": [
    "diff.year"
   ]
  },
  {
   "cell_type": "code",
   "execution_count": 94,
   "metadata": {
    "collapsed": false
   },
   "outputs": [
    {
     "ename": "TypeError",
     "evalue": "unsupported operand type(s) for +: 'datetime.datetime' and 'int'",
     "output_type": "error",
     "traceback": [
      "\u001b[0;31m---------------------------------------------------------------------------\u001b[0m\n\u001b[0;31mTypeError\u001b[0m                                 Traceback (most recent call last)",
      "\u001b[0;32m<ipython-input-94-5a5480e064db>\u001b[0m in \u001b[0;36m<module>\u001b[0;34m()\u001b[0m\n\u001b[0;32m----> 1\u001b[0;31m \u001b[0mprint\u001b[0m\u001b[0;34m(\u001b[0m\u001b[0mnow\u001b[0m\u001b[0;34m+\u001b[0m\u001b[0;36m100\u001b[0m\u001b[0;34m)\u001b[0m\u001b[0;34m\u001b[0m\u001b[0m\n\u001b[0m",
      "\u001b[0;31mTypeError\u001b[0m: unsupported operand type(s) for +: 'datetime.datetime' and 'int'"
     ]
    }
   ],
   "source": [
    "print(now+100)"
   ]
  },
  {
   "cell_type": "code",
   "execution_count": 98,
   "metadata": {
    "collapsed": false
   },
   "outputs": [
    {
     "ename": "TypeError",
     "evalue": "'months' is an invalid keyword argument for this function",
     "output_type": "error",
     "traceback": [
      "\u001b[0;31m---------------------------------------------------------------------------\u001b[0m\n\u001b[0;31mTypeError\u001b[0m                                 Traceback (most recent call last)",
      "\u001b[0;32m<ipython-input-98-fd0be940a388>\u001b[0m in \u001b[0;36m<module>\u001b[0;34m()\u001b[0m\n\u001b[1;32m      1\u001b[0m \u001b[0;32mfrom\u001b[0m \u001b[0mdatetime\u001b[0m \u001b[0;32mimport\u001b[0m \u001b[0mtimedelta\u001b[0m\u001b[0;34m\u001b[0m\u001b[0m\n\u001b[0;32m----> 2\u001b[0;31m \u001b[0mnow\u001b[0m\u001b[0;34m+\u001b[0m\u001b[0mtimedelta\u001b[0m\u001b[0;34m(\u001b[0m\u001b[0mmonths\u001b[0m\u001b[0;34m=\u001b[0m\u001b[0;36m1\u001b[0m\u001b[0;34m)\u001b[0m\u001b[0;34m\u001b[0m\u001b[0m\n\u001b[0m",
      "\u001b[0;31mTypeError\u001b[0m: 'months' is an invalid keyword argument for this function"
     ]
    }
   ],
   "source": [
    "from datetime import timedelta\n",
    "now+timedelta(months=1)"
   ]
  },
  {
   "cell_type": "code",
   "execution_count": 1,
   "metadata": {
    "collapsed": false
   },
   "outputs": [
    {
     "ename": "NameError",
     "evalue": "name 'a' is not defined",
     "output_type": "error",
     "traceback": [
      "\u001b[0;31m---------------------------------------------------------------------------\u001b[0m\n\u001b[0;31mNameError\u001b[0m                                 Traceback (most recent call last)",
      "\u001b[0;32m<ipython-input-1-60b725f10c9c>\u001b[0m in \u001b[0;36m<module>\u001b[0;34m()\u001b[0m\n\u001b[0;32m----> 1\u001b[0;31m \u001b[0ma\u001b[0m\u001b[0;34m\u001b[0m\u001b[0m\n\u001b[0m",
      "\u001b[0;31mNameError\u001b[0m: name 'a' is not defined"
     ]
    }
   ],
   "source": [
    "a"
   ]
  },
  {
   "cell_type": "code",
   "execution_count": 2,
   "metadata": {
    "collapsed": false
   },
   "outputs": [
    {
     "ename": "ZeroDivisionError",
     "evalue": "division by zero",
     "output_type": "error",
     "traceback": [
      "\u001b[0;31m---------------------------------------------------------------------------\u001b[0m\n\u001b[0;31mZeroDivisionError\u001b[0m                         Traceback (most recent call last)",
      "\u001b[0;32m<ipython-input-2-242277fd9e32>\u001b[0m in \u001b[0;36m<module>\u001b[0;34m()\u001b[0m\n\u001b[0;32m----> 1\u001b[0;31m \u001b[0;36m10\u001b[0m\u001b[0;34m/\u001b[0m\u001b[0;36m0\u001b[0m\u001b[0;34m\u001b[0m\u001b[0m\n\u001b[0m",
      "\u001b[0;31mZeroDivisionError\u001b[0m: division by zero"
     ]
    }
   ],
   "source": [
    "10/0"
   ]
  },
  {
   "cell_type": "code",
   "execution_count": 3,
   "metadata": {
    "collapsed": false
   },
   "outputs": [
    {
     "ename": "IndexError",
     "evalue": "list index out of range",
     "output_type": "error",
     "traceback": [
      "\u001b[0;31m---------------------------------------------------------------------------\u001b[0m\n\u001b[0;31mIndexError\u001b[0m                                Traceback (most recent call last)",
      "\u001b[0;32m<ipython-input-3-8b053fbcdc34>\u001b[0m in \u001b[0;36m<module>\u001b[0;34m()\u001b[0m\n\u001b[1;32m      1\u001b[0m \u001b[0ma\u001b[0m\u001b[0;34m=\u001b[0m\u001b[0;34m[\u001b[0m\u001b[0;36m10\u001b[0m\u001b[0;34m,\u001b[0m \u001b[0;36m20\u001b[0m\u001b[0;34m,\u001b[0m \u001b[0;36m30\u001b[0m\u001b[0;34m]\u001b[0m\u001b[0;34m\u001b[0m\u001b[0m\n\u001b[0;32m----> 2\u001b[0;31m \u001b[0ma\u001b[0m\u001b[0;34m[\u001b[0m\u001b[0;36m3\u001b[0m\u001b[0;34m]\u001b[0m\u001b[0;34m\u001b[0m\u001b[0m\n\u001b[0m",
      "\u001b[0;31mIndexError\u001b[0m: list index out of range"
     ]
    }
   ],
   "source": [
    "a=[10, 20, 30]\n",
    "a[3]"
   ]
  },
  {
   "cell_type": "code",
   "execution_count": 7,
   "metadata": {
    "collapsed": false
   },
   "outputs": [
    {
     "ename": "TypeError",
     "evalue": "unsupported operand type(s) for /: 'int' and 'str'",
     "output_type": "error",
     "traceback": [
      "\u001b[0;31m---------------------------------------------------------------------------\u001b[0m\n\u001b[0;31mTypeError\u001b[0m                                 Traceback (most recent call last)",
      "\u001b[0;32m<ipython-input-7-b6ab129780c5>\u001b[0m in \u001b[0;36m<module>\u001b[0;34m()\u001b[0m\n\u001b[1;32m      1\u001b[0m \u001b[0ma\u001b[0m\u001b[0;34m=\u001b[0m \u001b[0;34m'apple'\u001b[0m\u001b[0;34m\u001b[0m\u001b[0m\n\u001b[0;32m----> 2\u001b[0;31m \u001b[0;36m10\u001b[0m\u001b[0;34m/\u001b[0m\u001b[0ma\u001b[0m\u001b[0;34m\u001b[0m\u001b[0m\n\u001b[0m\u001b[1;32m      3\u001b[0m \u001b[0mprint\u001b[0m\u001b[0;34m(\u001b[0m\u001b[0;34m'실행이 되면 이상하지'\u001b[0m\u001b[0;34m)\u001b[0m\u001b[0;34m\u001b[0m\u001b[0m\n",
      "\u001b[0;31mTypeError\u001b[0m: unsupported operand type(s) for /: 'int' and 'str'"
     ]
    }
   ],
   "source": [
    "a= 'apple'\n",
    "10/a\n",
    "print('실행이 되면 이상하지')"
   ]
  },
  {
   "cell_type": "code",
   "execution_count": 18,
   "metadata": {
    "collapsed": false
   },
   "outputs": [
    {
     "name": "stdout",
     "output_type": "stream",
     "text": [
      "오류! 연산 관련 오류\n",
      "예외가 발생하든 말든 실행\n",
      "하지만 프로그램은 정상적으로 끝까지 실행됐습니다.\n"
     ]
    }
   ],
   "source": [
    "a=0\n",
    "b=10\n",
    "\n",
    "try:\n",
    "    print(b/a)\n",
    "except (ZeroDivisionError, TypeError):\n",
    "    print('오류! 연산 관련 오류')\n",
    "except Exception:\n",
    "    print('무슨 오류지...? 하여튼 문제가 있습니다.')\n",
    "else:\n",
    "    print('예외 없이 완전하게 실행되었습니다.')\n",
    "finally:\n",
    "    print('예외가 발생하든 말든 실행')\n",
    "\n",
    "print('하지만 프로그램은 정상적으로 끝까지 실행됐습니다.')"
   ]
  },
  {
   "cell_type": "code",
   "execution_count": 21,
   "metadata": {
    "collapsed": false
   },
   "outputs": [
    {
     "name": "stdout",
     "output_type": "stream",
     "text": [
      "data.txt 파일을 찾을 수 없습니다.\n"
     ]
    }
   ],
   "source": [
    "filepath = 'data.txt'\n",
    "\n",
    "try:\n",
    "    with open(filepath) as file:\n",
    "        content = file.read()\n",
    "except FileNotFoundError:\n",
    "    print(filepath, '파일을 찾을 수 없습니다.')\n"
   ]
  },
  {
   "cell_type": "code",
   "execution_count": null,
   "metadata": {
    "collapsed": false
   },
   "outputs": [],
   "source": [
    "with open(filepath) as f:\n",
    "    content = f.read()\n",
    "\n",
    "print('여기가 실행될 때는 인제 f.close()가 자동으로 실행됨')"
   ]
  },
  {
   "cell_type": "code",
   "execution_count": 22,
   "metadata": {
    "collapsed": false
   },
   "outputs": [
    {
     "data": {
      "text/plain": [
       "25"
      ]
     },
     "execution_count": 22,
     "metadata": {},
     "output_type": "execute_result"
    }
   ],
   "source": [
    "25%26"
   ]
  },
  {
   "cell_type": "code",
   "execution_count": 23,
   "metadata": {
    "collapsed": false
   },
   "outputs": [
    {
     "data": {
      "text/plain": [
       "18"
      ]
     },
     "execution_count": 23,
     "metadata": {},
     "output_type": "execute_result"
    }
   ],
   "source": [
    "(19+25)%26"
   ]
  },
  {
   "cell_type": "markdown",
   "metadata": {},
   "source": [
    "# Test Assignment #1\n",
    "\n",
    "Vigenère cipher"
   ]
  },
  {
   "cell_type": "code",
   "execution_count": 81,
   "metadata": {
    "collapsed": false
   },
   "outputs": [
    {
     "name": "stdout",
     "output_type": "stream",
     "text": [
      "SVLA SR HFTBDAHTY RSFZED!\n",
      "정답!\n",
      "PWSQXQ MORYUVA VBW AGCHAUP KHIWQJKNAQV!\n",
      "정답\n"
     ]
    },
    {
     "ename": "NameError",
     "evalue": "name 'decode' is not defined",
     "output_type": "error",
     "traceback": [
      "\u001b[0;31m---------------------------------------------------------------------------\u001b[0m\n\u001b[0;31mNameError\u001b[0m                                 Traceback (most recent call last)",
      "\u001b[0;32m<ipython-input-81-62ddda75ccf1>\u001b[0m in \u001b[0;36m<module>\u001b[0;34m()\u001b[0m\n\u001b[1;32m     49\u001b[0m     \u001b[0mprint\u001b[0m\u001b[0;34m(\u001b[0m\u001b[0;34m'정답'\u001b[0m\u001b[0;34m)\u001b[0m\u001b[0;34m\u001b[0m\u001b[0m\n\u001b[1;32m     50\u001b[0m \u001b[0;34m\u001b[0m\u001b[0m\n\u001b[0;32m---> 51\u001b[0;31m \u001b[0mdecoded_text\u001b[0m \u001b[0;34m=\u001b[0m \u001b[0mdecode\u001b[0m\u001b[0;34m(\u001b[0m\u001b[0;34m'PWSQXQ MORYUVA VBW AGCHAUP KHIWQJKNAQV!'\u001b[0m\u001b[0;34m,\u001b[0m \u001b[0;34m'CIRCUS'\u001b[0m\u001b[0;34m)\u001b[0m\u001b[0;34m\u001b[0m\u001b[0m\n\u001b[0m\u001b[1;32m     52\u001b[0m \u001b[0;32mif\u001b[0m \u001b[0mdecoded_text\u001b[0m \u001b[0;34m==\u001b[0m\u001b[0;34m'NOBODY EXPECTS THE SPANISH INQUISITION!'\u001b[0m\u001b[0;34m:\u001b[0m\u001b[0;34m\u001b[0m\u001b[0m\n\u001b[1;32m     53\u001b[0m     \u001b[0mprint\u001b[0m\u001b[0;34m(\u001b[0m\u001b[0;34m'정답!'\u001b[0m\u001b[0;34m)\u001b[0m\u001b[0;34m\u001b[0m\u001b[0m\n",
      "\u001b[0;31mNameError\u001b[0m: name 'decode' is not defined"
     ]
    }
   ],
   "source": [
    "def encode(t, s):\n",
    "    '''\n",
    "    t: 원본 텍스트\n",
    "    s: 암호화를 수행할 키워드\n",
    "    '''\n",
    "    # 일단 A-Z까지 대문자로 된 글자들을 가져오자\n",
    "    # 얘네들이 0-25의 숫자값에 해당되도록 순서대로 가져오자\n",
    "    import string\n",
    "    letters = string.ascii_uppercase\n",
    "\n",
    "    # 원본 텍스트를 순서대로 하나씩, \n",
    "    원본텍스트 = t\n",
    "    키워드 = s\n",
    "    암호화문장 = ''\n",
    "    # p.76 for ... in enumerate()\n",
    "    for 현재위치, each_character in enumerate(원본텍스트):\n",
    "        if letters.find(each_character) == -1:\n",
    "            # 알파벳 문자가 아닌 경우는 변환 안한다\n",
    "            암호화문장 += each_character\n",
    "    \n",
    "            #print(암호화문장) # 조사용 \n",
    "            continue\n",
    "            \n",
    "        # 텍스트의 문자가 어떤 숫자에 해당하는지를 알아내자\n",
    "        o_i = letters.find(each_character)\n",
    "        \n",
    "        # 키워드의 문자가 어떤 숫자에 해당하는지 알아내자\n",
    "        k = 키워드[현재위치%6]\n",
    "        k_i = letters.find(k)\n",
    "        \n",
    "        # C_i = (O_i + K_i) % 26\n",
    "        c_i = (o_i + k_i) % 26\n",
    "        \n",
    "        # 해당 글자의 문자가 무엇인지 찾기\n",
    "        암호화문장 += letters[c_i]\n",
    "\n",
    "        #print(암호화문장) # 조사용\n",
    "\n",
    "    return 암호화문장\n",
    "\n",
    "ciphered_text = encode('THIS IS EXTREMELY SECRET!', 'ZODIAK')\n",
    "print(ciphered_text)\n",
    "if ciphered_text == 'SVLA SR HFTBDAHTY RSFZED!':\n",
    "    print('정답!')\n",
    "    \n",
    "ciphered_text = encode('NOBODY EXPECTS THE SPANISH INQUISITION!', 'CIRCUS')\n",
    "print(ciphered_text)\n",
    "if ciphered_text == 'PWSQXQ MORYUVA VBW AGCHAUP KHIWQJKNAQV!':\n",
    "    print('정답')\n",
    "    \n",
    "decoded_text = decode('PWSQXQ MORYUVA VBW AGCHAUP KHIWQJKNAQV!', 'CIRCUS') \n",
    "if decoded_text =='NOBODY EXPECTS THE SPANISH INQUISITION!':\n",
    "    print('정답!')"
   ]
  },
  {
   "cell_type": "code",
   "execution_count": 26,
   "metadata": {
    "collapsed": false
   },
   "outputs": [
    {
     "name": "stdout",
     "output_type": "stream",
     "text": [
      "ABCDEFGHIJKLMNOPQRSTUVWXYZ\n"
     ]
    },
    {
     "data": {
      "text/plain": [
       "2"
      ]
     },
     "execution_count": 26,
     "metadata": {},
     "output_type": "execute_result"
    }
   ],
   "source": [
    "import string\n",
    "letters = string.ascii_uppercase\n",
    "print(letters)\n",
    "letters.find('C') # p.220 참조"
   ]
  },
  {
   "cell_type": "markdown",
   "metadata": {},
   "source": [
    "# Mock Test Assignment 2: Josephus"
   ]
  },
  {
   "cell_type": "code",
   "execution_count": 80,
   "metadata": {
    "collapsed": false
   },
   "outputs": [
    {
     "name": "stdout",
     "output_type": "stream",
     "text": [
      "[1, 2, 3, 4, 5, 6, 7, 8, 9, 10]\n",
      "n=10, k=3, answer=4\n",
      "정답!\n",
      "\n",
      "[1, 2, 3, 4, 5, 6, 7, 8, 9, 10, 11, 12]\n",
      "n=12, k=3, answer=10\n",
      "정답!\n",
      "\n",
      "[1, 2, 3, 4, 5, 6, 7, 8, 9, 10, 11, 12, 13, 14, 15, 16, 17, 18, 19, 20, 21, 22, 23, 24, 25, 26, 27, 28, 29, 30, 31, 32, 33, 34, 35, 36, 37, 38, 39, 40, 41]\n",
      "n=41, k=3, answer=31\n",
      "정답!\n",
      "\n",
      "[1, 2, 3, 4, 5, 6, 7, 8, 9, 10, 11, 12, 13, 14, 15, 16, 17, 18, 19, 20, 21, 22, 23, 24, 25, 26, 27, 28, 29, 30]\n",
      "n=30, k=9, answer=21\n",
      "정답!\n",
      "\n",
      "주어진 경우에 모두 정답 확인\n"
     ]
    }
   ],
   "source": [
    "def next_circular_index(circular_list, i, step):\n",
    "    '''주어진 순환배열의 다음 인덱스\n",
    "    alist: 대상 순환배열\n",
    "    i: 현재 인덱스\n",
    "    step: 스탭(step)\n",
    "    '''\n",
    "    offset = 0\n",
    "    length = len(circular_list)\n",
    "    if i+step > len(circular_list)-1:\n",
    "        # 배열의 전체 길이보다 다음 인덱스값이 큰 경우\n",
    "        # 배열의 길이만큼 빼 준다\n",
    "        offset = length\n",
    "    \n",
    "    # 새로 구한 인덱스값이 전체 배열의 크기를 넘지 않도록 해준다\n",
    "    i = (i+step - offset)%length\n",
    "    return i\n",
    "\n",
    "def josephus(n, k, debug=False):\n",
    "    # 사람 목록 생성\n",
    "    people = list(range(1,n+1))\n",
    "    print(people)\n",
    "    \n",
    "    i=0\n",
    "    step = k-1\n",
    "    while len(people) > 1:\n",
    "        # 다음 처형 순서\n",
    "        i = next_circular_index(people, i, step)\n",
    "        # 처형 실행\n",
    "        #죽은사람 = people.pop(i%len(people))\n",
    "        죽은사람 = people.pop(i)\n",
    "\n",
    "        # 조사용 출력\n",
    "        if debug:\n",
    "            print('i={}, Executed={}'.format(i,죽은사람))\n",
    "            print(people)\n",
    "    \n",
    "    # 최후의 1인 반환\n",
    "    return people[0]\n",
    "\n",
    "def main():\n",
    "    # 문제 해결 확인\n",
    "    input_list =[(10,3,4), (12,3,10), (41,3,31), (30,9,21)]\n",
    "    for n,k,answer in input_list:\n",
    "        # 생존자 번호\n",
    "        survivor = josephus(n,k)\n",
    "        print('n={0}, k={1}, answer={2}'.format(n,k,answer))\n",
    "        if survivor == answer:\n",
    "            print('정답!\\n')\n",
    "        else:\n",
    "            print('오답! 잘못된 생존자={}'.format(survivor))\n",
    "            break\n",
    "    else:\n",
    "        # 모든 입력에 대해 정답인 경우\n",
    "        print('주어진 경우에 모두 정답 확인')\n",
    "        \n",
    "main()"
   ]
  },
  {
   "cell_type": "markdown",
   "metadata": {},
   "source": [
    "# Assignment 3"
   ]
  },
  {
   "cell_type": "code",
   "execution_count": 59,
   "metadata": {
    "collapsed": false
   },
   "outputs": [
    {
     "name": "stdout",
     "output_type": "stream",
     "text": [
      "ri=0.72, ro=1.77\n",
      "ri=0.08351076749160286, ro=0.22638914796779477\n",
      "ri=0.055029194501334214, ro=0.29540219021344566\n"
     ]
    }
   ],
   "source": [
    "def HZ(L, Teff=5700, model=0):\n",
    "    import math\n",
    "    \n",
    "    # 상수값 정의\n",
    "    ai, bi = 2.7619e-5, 3.8095e-9\n",
    "    ao, bo = 1.3786e-4, 1.4286e-9\n",
    "    Ts = 5700\n",
    "    \n",
    "    model_list = [(0.72, 1.77), (0.84, 1.67), (0.68, 1.95), (0.46, 2.40)]\n",
    "    ris, ros = model_list[model]\n",
    "    \n",
    "    # ri와 ro 공식 적용\n",
    "    ri = ((ris-ai*(Teff-Ts)-bi*(Teff-Ts)**2))*math.sqrt(L)\n",
    "    ro = ((ros-ao*(Teff-Ts)-bo*(Teff-Ts)**2))*math.sqrt(L)\n",
    "    return (ri, ro)\n",
    "\n",
    "# 문제 해결 확인\n",
    "(ri, ro) = HZ(1.0)\n",
    "print('ri={}, ro={}'.format(ri, ro))\n",
    "\n",
    "(ri, ro) = HZ(0.012, 3498)\n",
    "print('ri={}, ro={}'.format(ri, ro))\n",
    "\n",
    "(ri, ro) = HZ(0.012, 3498, 3)\n",
    "print('ri={}, ro={}'.format(ri, ro))"
   ]
  },
  {
   "cell_type": "markdown",
   "metadata": {},
   "source": [
    "# csv 읽기"
   ]
  },
  {
   "cell_type": "code",
   "execution_count": 70,
   "metadata": {
    "collapsed": false
   },
   "outputs": [],
   "source": [
    "def from_csv(filename, delimiter=',', encoding='utf-8'):\n",
    "    with open(filename, newline='', encoding=encoding) as csvfile:\n",
    "        import csv\n",
    "        # CSV 파일 리더 생성\n",
    "        reader = csv.reader(csvfile, delimiter=delimiter)\n",
    "        \n",
    "        data = []\n",
    "        for row in reader:\n",
    "            data.append(row)\n",
    "        \n",
    "    return data"
   ]
  },
  {
   "cell_type": "code",
   "execution_count": 71,
   "metadata": {
    "collapsed": false
   },
   "outputs": [
    {
     "name": "stdout",
     "output_type": "stream",
     "text": [
      "col1\n"
     ]
    }
   ],
   "source": [
    "data = from_csv('sample.csv')\n",
    "row, col = 0,0\n",
    "print(data[row][col])"
   ]
  },
  {
   "cell_type": "code",
   "execution_count": 73,
   "metadata": {
    "collapsed": false
   },
   "outputs": [
    {
     "name": "stdout",
     "output_type": "stream",
     "text": [
      "['P. Name', 'P. Name Kepler', 'P. Name KOI', 'P. Zone Class', 'P. Mass Class', 'P. Composition Class', 'P. Atmosphere Class', 'P. Habitable Class', 'P. Min Mass (EU)', 'P. Mass (EU)', 'P. Radius (EU)', 'P. Density (EU)', 'P. Gravity (EU)', 'P. Esc Vel (EU)', 'P. SFlux Min (EU)', 'P. SFlux Mean (EU)', 'P. SFlux Max (EU)', 'P. Teq Min (K)', 'P. Teq Mean (K)', 'P. Teq Max (K)', 'P. Ts Min (K)', 'P. Ts Mean (K)', 'P. Ts Max (K)', 'P. Surf Press (EU)', 'P. Mag', 'P. Appar Size (deg)', 'P. Period (days)', 'P. Sem Major Axis (AU)', 'P. Eccentricity', 'P. Mean Distance (AU)', 'P. Inclination (deg)', 'P. Omega (deg)', 'P. Confirmed', 'P. Disc. Method', 'P. Disc. Year', 'S. Name', 'S. Name HD', 'S. Name HIP', 'S. Constellation', 'S. Type', 'S. Mass (SU)', 'S. Radius (SU)', 'S. Teff (K)', 'S. Luminosity (SU)', 'S. [Fe/H]', 'S. Age (Gyrs)', 'S. Appar Mag', 'S. Distance (pc)', 'S. RA (deg)', 'S. DEC (deg)', 'S. Mag from Planet', 'S. Size from Planet (deg)', 'S. No. Planets']\n"
     ]
    }
   ],
   "source": [
    "data = from_csv('exoplanets.csv')\n",
    "print(data[0])"
   ]
  },
  {
   "cell_type": "markdown",
   "metadata": {},
   "source": [
    "# Assignment 4-1"
   ]
  },
  {
   "cell_type": "code",
   "execution_count": 74,
   "metadata": {
    "collapsed": false
   },
   "outputs": [],
   "source": [
    "def create_puzzle(r, c, s):\n",
    "    puzzle = []\n",
    "    # 열의 개수만큼으로 문자열을 자른다.\n",
    "    while len(s)>0:\n",
    "        row = s[0:c]\n",
    "        puzzle.append(row)\n",
    "        s = s[c:]\n",
    "        \n",
    "    return puzzle"
   ]
  },
  {
   "cell_type": "code",
   "execution_count": 79,
   "metadata": {
    "collapsed": false
   },
   "outputs": [
    {
     "name": "stdout",
     "output_type": "stream",
     "text": [
      "E\n"
     ]
    }
   ],
   "source": [
    "puzzle = create_puzzle(2,3, 'ABCDEF')\n",
    "print(puzzle[1][1])"
   ]
  },
  {
   "cell_type": "code",
   "execution_count": null,
   "metadata": {
    "collapsed": false
   },
   "outputs": [],
   "source": []
  }
 ],
 "metadata": {
  "kernelspec": {
   "display_name": "Python 2",
   "language": "python",
   "name": "python2"
  },
  "language_info": {
   "codemirror_mode": {
    "name": "ipython",
    "version": 2
   },
   "file_extension": ".py",
   "mimetype": "text/x-python",
   "name": "python",
   "nbconvert_exporter": "python",
   "pygments_lexer": "ipython2",
   "version": "2.7.10"
  }
 },
 "nbformat": 4,
 "nbformat_minor": 0
}
