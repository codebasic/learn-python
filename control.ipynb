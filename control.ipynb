{
 "cells": [
  {
   "cell_type": "markdown",
   "metadata": {},
   "source": [
    "# 반복과 제어\n",
    "\n",
    "이성주 (c) 2015"
   ]
  },
  {
   "cell_type": "code",
   "execution_count": 18,
   "metadata": {
    "collapsed": true
   },
   "outputs": [],
   "source": [
    "# 3버전 스타일 print 함수 사용\n",
    "from __future__ import print_function"
   ]
  },
  {
   "cell_type": "markdown",
   "metadata": {},
   "source": [
    "## for"
   ]
  },
  {
   "cell_type": "code",
   "execution_count": 31,
   "metadata": {
    "collapsed": false
   },
   "outputs": [
    {
     "name": "stdout",
     "output_type": "stream",
     "text": [
      "[1, 2, 3]\n"
     ]
    }
   ],
   "source": [
    "print([1,2,3])"
   ]
  },
  {
   "cell_type": "code",
   "execution_count": 17,
   "metadata": {
    "collapsed": false
   },
   "outputs": [
    {
     "name": "stdout",
     "output_type": "stream",
     "text": [
      "1\n",
      "2\n",
      "3\n"
     ]
    }
   ],
   "source": [
    "for n in [1,2,3]:\n",
    "    print(n)"
   ]
  },
  {
   "cell_type": "code",
   "execution_count": 12,
   "metadata": {
    "collapsed": false
   },
   "outputs": [
    {
     "name": "stdout",
     "output_type": "stream",
     "text": [
      "name\n",
      "email\n"
     ]
    }
   ],
   "source": [
    "for key in {'name': '이성주', 'email':'seongjoo@codebasic'}:\n",
    "    print(key)"
   ]
  },
  {
   "cell_type": "code",
   "execution_count": 20,
   "metadata": {
    "collapsed": false
   },
   "outputs": [
    {
     "data": {
      "text/plain": [
       "[('name', '\\xec\\x9d\\xb4\\xec\\x84\\xb1\\xec\\xa3\\xbc'),\n",
       " ('email', 'seongjoo@codebasic')]"
      ]
     },
     "execution_count": 20,
     "metadata": {},
     "output_type": "execute_result"
    }
   ],
   "source": [
    "profile = {'name': '이성주', 'email':'seongjoo@codebasic'}\n",
    "profile.items()"
   ]
  },
  {
   "cell_type": "code",
   "execution_count": 19,
   "metadata": {
    "collapsed": false
   },
   "outputs": [
    {
     "name": "stdout",
     "output_type": "stream",
     "text": [
      "name 이성주\n",
      "email seongjoo@codebasic\n"
     ]
    }
   ],
   "source": [
    "for key, value in profile.items():\n",
    "    print(key, value)"
   ]
  },
  {
   "cell_type": "code",
   "execution_count": 18,
   "metadata": {
    "collapsed": false
   },
   "outputs": [
    {
     "name": "stdout",
     "output_type": "stream",
     "text": [
      "p:::y:::t:::h:::o:::n:::"
     ]
    }
   ],
   "source": [
    "for c in 'python':\n",
    "    print(c, end=':::')"
   ]
  },
  {
   "cell_type": "markdown",
   "metadata": {},
   "source": [
    "### 들여쓰기와 스코프"
   ]
  },
  {
   "cell_type": "code",
   "execution_count": 2,
   "metadata": {
    "collapsed": false
   },
   "outputs": [
    {
     "name": "stdout",
     "output_type": "stream",
     "text": [
      "[1, 4, 9, 16, 25]\n"
     ]
    }
   ],
   "source": [
    "nums_square = []\n",
    "for n in [1,2,3,4,5]:\n",
    "    nums_square.append(n**2)\n",
    "print(nums_square)"
   ]
  },
  {
   "cell_type": "markdown",
   "metadata": {},
   "source": [
    "## 내장리스트 (list comprehension)"
   ]
  },
  {
   "cell_type": "markdown",
   "metadata": {},
   "source": [
    "리스트 내에서 반복문 실행"
   ]
  },
  {
   "cell_type": "code",
   "execution_count": null,
   "metadata": {
    "collapsed": true
   },
   "outputs": [],
   "source": [
    "nums_square = [n**2 for n in [1,2,3,4,5]]\n",
    "print(nums_square)"
   ]
  },
  {
   "cell_type": "markdown",
   "metadata": {},
   "source": [
    "숫자 리스트 생성 함수"
   ]
  },
  {
   "cell_type": "code",
   "execution_count": 7,
   "metadata": {
    "collapsed": false,
    "scrolled": true
   },
   "outputs": [
    {
     "data": {
      "text/plain": [
       "[0, 1, 2, 3, 4, 5, 6, 7, 8, 9]"
      ]
     },
     "execution_count": 7,
     "metadata": {},
     "output_type": "execute_result"
    }
   ],
   "source": [
    "range(10)"
   ]
  },
  {
   "cell_type": "code",
   "execution_count": 3,
   "metadata": {
    "collapsed": false
   },
   "outputs": [
    {
     "data": {
      "text/plain": [
       "[0, 1, 2, 3, 4, 5, 6, 7, 8, 9]"
      ]
     },
     "execution_count": 3,
     "metadata": {},
     "output_type": "execute_result"
    }
   ],
   "source": [
    "# 3 버전\n",
    "list(range(10)) "
   ]
  },
  {
   "cell_type": "code",
   "execution_count": 8,
   "metadata": {
    "collapsed": false
   },
   "outputs": [
    {
     "data": {
      "text/plain": [
       "[2, 3, 4, 5, 6, 7, 8, 9, 10]"
      ]
     },
     "execution_count": 8,
     "metadata": {},
     "output_type": "execute_result"
    }
   ],
   "source": [
    "range(2,11)"
   ]
  },
  {
   "cell_type": "code",
   "execution_count": 9,
   "metadata": {
    "collapsed": false
   },
   "outputs": [
    {
     "data": {
      "text/plain": [
       "[1, 3, 5, 7, 9]"
      ]
     },
     "execution_count": 9,
     "metadata": {},
     "output_type": "execute_result"
    }
   ],
   "source": [
    "range(1,11,2)"
   ]
  },
  {
   "cell_type": "markdown",
   "metadata": {},
   "source": [
    "특정 횟수 반복"
   ]
  },
  {
   "cell_type": "code",
   "execution_count": 5,
   "metadata": {
    "collapsed": false
   },
   "outputs": [
    {
     "name": "stdout",
     "output_type": "stream",
     "text": [
      "참 잘했어요!\n",
      "참 잘했어요!\n",
      "참 잘했어요!\n"
     ]
    }
   ],
   "source": [
    "for x in range(3):\n",
    "    print('참 잘했어요!')"
   ]
  },
  {
   "cell_type": "markdown",
   "metadata": {},
   "source": [
    "인덱스가 필요한 경우"
   ]
  },
  {
   "cell_type": "code",
   "execution_count": 27,
   "metadata": {
    "collapsed": false
   },
   "outputs": [
    {
     "data": {
      "text/plain": [
       "(0, 'a')"
      ]
     },
     "execution_count": 27,
     "metadata": {},
     "output_type": "execute_result"
    }
   ],
   "source": [
    "it = enumerate('abc')\n",
    "it.next()"
   ]
  },
  {
   "cell_type": "code",
   "execution_count": 28,
   "metadata": {
    "collapsed": false
   },
   "outputs": [
    {
     "data": {
      "text/plain": [
       "(1, 'b')"
      ]
     },
     "execution_count": 28,
     "metadata": {},
     "output_type": "execute_result"
    }
   ],
   "source": [
    "it.next()"
   ]
  },
  {
   "cell_type": "code",
   "execution_count": 6,
   "metadata": {
    "collapsed": false,
    "scrolled": true
   },
   "outputs": [
    {
     "name": "stdout",
     "output_type": "stream",
     "text": [
      "1 참 잘했어요!\n",
      "2 참 잘했어요!\n",
      "3 참 잘했어요!\n"
     ]
    }
   ],
   "source": [
    "for i, x in enumerate(range(3)):\n",
    "    print i+1, '참 잘했어요!'"
   ]
  },
  {
   "cell_type": "code",
   "execution_count": 28,
   "metadata": {
    "collapsed": false
   },
   "outputs": [
    {
     "name": "stdout",
     "output_type": "stream",
     "text": [
      "name 이성주\n",
      "email seongjoo@codebasic.co\n"
     ]
    }
   ],
   "source": [
    "profile = {'name':'이성주', 'email': 'seongjoo@codebasic.co'}\n",
    "for k,v in profile.items():\n",
    "    print(k,v)"
   ]
  },
  {
   "cell_type": "markdown",
   "metadata": {},
   "source": [
    "##while"
   ]
  },
  {
   "cell_type": "code",
   "execution_count": 20,
   "metadata": {
    "collapsed": false
   },
   "outputs": [
    {
     "name": "stdout",
     "output_type": "stream",
     "text": [
      "1\n",
      "2\n"
     ]
    }
   ],
   "source": [
    "x=1\n",
    "while x < 3:\n",
    "    print(x)\n",
    "    x += 1"
   ]
  },
  {
   "cell_type": "code",
   "execution_count": 14,
   "metadata": {
    "collapsed": false
   },
   "outputs": [
    {
     "name": "stdout",
     "output_type": "stream",
     "text": [
      "I love you\n"
     ]
    }
   ],
   "source": [
    "isTrueLove = True\n",
    "while isTrueLove:\n",
    "    print(\"I love you\")\n",
    "    break"
   ]
  },
  {
   "cell_type": "markdown",
   "metadata": {},
   "source": [
    "## 도전과제\n",
    "\n",
    "포커 카드는 52장이다. 각 카드는 문양(suit)와 숫자(rank)로 이루어진다. 문양은 Diamond, Heart, Spade, Clover 4 종류이고, 숫자는 2, 3, … , 9, 10, J, Q, K, A의 13개의 값이다. 52장의 포커 카드를 생성해 변수 deck에 저장하시오.\n",
    "\n",
    "\n",
    "예: ‘Diamond 3’, ‘Heart Q’\n",
    "\n",
    "a. 각 포커 카드의 정보를 문자열 형태로 저장하시오. \n",
    "\n",
    "b. 각 포커 카드 정보를 리스트 자료 구조로 저장하시오. 예: [‘Diamond’, 3], [‘Heart’, ‘Q’]\n",
    "\n",
    "c. 한 줄의 구문으로 전체 포커 카드를 생성하시오.\n",
    "\n",
    "d. 같은 문양은 같은 줄로 출력해 총 네 줄로 전체 카드를 출력하시오."
   ]
  },
  {
   "cell_type": "code",
   "execution_count": 30,
   "metadata": {
    "collapsed": false
   },
   "outputs": [
    {
     "name": "stdout",
     "output_type": "stream",
     "text": [
      "Heart2, Heart3, Heart4, Heart5, Heart6, Heart7, Heart8, Heart9, Heart10, HeartJ, HeartQ, HeartK, HeartA, \n",
      "\n",
      "Diamond2, Diamond3, Diamond4, Diamond5, Diamond6, Diamond7, Diamond8, Diamond9, Diamond10, DiamondJ, DiamondQ, DiamondK, DiamondA, \n",
      "\n",
      "Clover2, Clover3, Clover4, Clover5, Clover6, Clover7, Clover8, Clover9, Clover10, CloverJ, CloverQ, CloverK, CloverA, \n",
      "\n",
      "Spade2, Spade3, Spade4, Spade5, Spade6, Spade7, Spade8, Spade9, Spade10, SpadeJ, SpadeQ, SpadeK, SpadeA, \n",
      "\n"
     ]
    }
   ],
   "source": [
    "# 52장 카드 덱 생성\n",
    "suits = ['Heart', 'Diamond', 'Clover', 'Spade']\n",
    "ranks = range(2,11)+['J', 'Q', 'K', 'A']\n",
    "deck = []\n",
    "for s in suits:\n",
    "    for r in ranks:\n",
    "        card = s + str(r)\n",
    "        deck.append(card)\n",
    "\n",
    "# 각 문양별로 한 줄씩 출력\n",
    "previous_suit = ''\n",
    "for card in deck:\n",
    "    # 카드의 문양을 뽑는다.\n",
    "    suit = card[0]\n",
    "    # 같은 문양이면 같은 줄로 출력\n",
    "    if suit == 'H':\n",
    "        suit_collection[0].append(card)\n",
    "    elif suit == 'D':\n",
    "        suit_collection[1].append(card)\n",
    "    elif suit == 'C':\n",
    "        suit_collection[2].append(card)\n",
    "    elif suit == 'S':\n",
    "        suit_collection[3].append(card)\n",
    "    else:\n",
    "        print('그런 문양은 없어요!')\n",
    "    \n",
    "for suits in suit_collection:\n",
    "    for card in suits:\n",
    "        print(card, end=', ')\n",
    "    print('\\n')"
   ]
  },
  {
   "cell_type": "code",
   "execution_count": 24,
   "metadata": {
    "collapsed": false
   },
   "outputs": [
    {
     "data": {
      "text/plain": [
       "52"
      ]
     },
     "execution_count": 24,
     "metadata": {},
     "output_type": "execute_result"
    }
   ],
   "source": [
    "deck = [[s,r] for s in ['Heart', 'Diamond', 'Spade', 'Clover'] for r in range(2,11)+['J','Q','K', 'A']]\n",
    "len(deck)"
   ]
  },
  {
   "cell_type": "markdown",
   "metadata": {},
   "source": [
    "## 도전과제\n",
    "6면 주사위는 1부터 6까지의 값을 갖는다. 주사위를 굴릴 때 나온 윗면의 숫자의 누적 합계를 구한다. 누적 합계가 100 이상이 될 때까지 몇 번을 던졌는지를 표시하는 프로그램을 작성한다. [a, b] 구간에서 무작위 숫자를 구하는 구문은 다음과 같다.\n",
    "\t\n",
    "    import random\n",
    "    # 0 이상 1 이하의 무작위 정수 생성\n",
    "\tn = random.randint(0, 1) "
   ]
  },
  {
   "cell_type": "code",
   "execution_count": 42,
   "metadata": {
    "collapsed": false
   },
   "outputs": [
    {
     "name": "stdout",
     "output_type": "stream",
     "text": [
      "27\n"
     ]
    }
   ],
   "source": [
    "import random\n",
    "total = 0\n",
    "count = 0\n",
    "while total < 100:\n",
    "    face = random.randint(1,6)\n",
    "    total += face\n",
    "    count += 1\n",
    "\n",
    "print(count)"
   ]
  },
  {
   "cell_type": "markdown",
   "metadata": {},
   "source": [
    "# 제어"
   ]
  },
  {
   "cell_type": "code",
   "execution_count": 15,
   "metadata": {
    "collapsed": false
   },
   "outputs": [
    {
     "name": "stdout",
     "output_type": "stream",
     "text": [
      "apple\n"
     ]
    }
   ],
   "source": [
    "x = 10\n",
    "if x < 5:\n",
    "    fruit = 'banana'\n",
    "else:\n",
    "    fruit = 'apple'\n",
    "\n",
    "print(fruit)"
   ]
  },
  {
   "cell_type": "code",
   "execution_count": 16,
   "metadata": {
    "collapsed": false
   },
   "outputs": [
    {
     "name": "stdout",
     "output_type": "stream",
     "text": [
      "Good afternoon\n"
     ]
    }
   ],
   "source": [
    "hour = 13\n",
    "greeting = 'Good'\n",
    "if 5 < hour < 12:\n",
    "    # 아침인사\n",
    "    greeting += ' morning'\n",
    "elif 12 <= hour < 18:\n",
    "    greeting += ' afternoon'\n",
    "else:\n",
    "    greeting += ' night!'\n",
    "\n",
    "print(greeting)"
   ]
  },
  {
   "cell_type": "markdown",
   "metadata": {},
   "source": [
    "# 도전과제\n",
    "\n",
    "3-6-9 게임\n",
    "\n",
    "1부터 시작해 1씩 숫자가 증가한다. 숫자에 3,6,9가 하나 이상 있으면 숫자 대신 '짝!'을 출력한다.\n",
    "\n",
    "출력 예시: 1 2 짝! 4 5 짝! 7 8 짝!"
   ]
  },
  {
   "cell_type": "code",
   "execution_count": 56,
   "metadata": {
    "collapsed": false
   },
   "outputs": [
    {
     "name": "stdout",
     "output_type": "stream",
     "text": [
      "1 2 짝! 4 5 짝! 7 8 짝! 10 11 12 짝! 14 15 짝! 17 18 짝! "
     ]
    }
   ],
   "source": [
    "# 숫자 생성\n",
    "N = 20\n",
    "for n in range(1,N):\n",
    "    # 숫자에 3 또는 6 또는 9가 있는지 확인\n",
    "    if '3' in str(n)or '6' in str(n)or '9' in str(n):\n",
    "        print('짝!', end=' ')\n",
    "        continue\n",
    "    print(n, end=' ')"
   ]
  },
  {
   "cell_type": "code",
   "execution_count": 48,
   "metadata": {
    "collapsed": false
   },
   "outputs": [
    {
     "data": {
      "text/plain": [
       "6"
      ]
     },
     "execution_count": 48,
     "metadata": {},
     "output_type": "execute_result"
    }
   ],
   "source": [
    "False or 6"
   ]
  },
  {
   "cell_type": "markdown",
   "metadata": {},
   "source": [
    "## 도전과제\n",
    "\n",
    "10 이하의 3 또는 5의 배수는 3, 5, 6, 9이다. 이 숫자들의 합은 23이다. 1000 이하 3 또는 5의 배수의 합을 구하라."
   ]
  },
  {
   "cell_type": "code",
   "execution_count": null,
   "metadata": {
    "collapsed": true
   },
   "outputs": [],
   "source": []
  },
  {
   "cell_type": "markdown",
   "metadata": {},
   "source": [
    "## 도전과제\n",
    "\n",
    "각 학생 정보는 이름, 세 과목의 점수로 이루어진다. 세 명 학생의 정보를 저장한다.\n",
    "\n",
    "1. 각 학생의 평균 점수를 구하라.\n",
    "\n",
    "2. 각 과목의 평균 점수를 구하라."
   ]
  },
  {
   "cell_type": "code",
   "execution_count": 5,
   "metadata": {
    "collapsed": false
   },
   "outputs": [
    {
     "data": {
      "text/plain": [
       "0.0"
      ]
     },
     "execution_count": 5,
     "metadata": {},
     "output_type": "execute_result"
    }
   ],
   "source": [
    "float(1/2)"
   ]
  },
  {
   "cell_type": "code",
   "execution_count": 3,
   "metadata": {
    "collapsed": false
   },
   "outputs": [
    {
     "data": {
      "text/plain": [
       "1"
      ]
     },
     "execution_count": 3,
     "metadata": {},
     "output_type": "execute_result"
    }
   ],
   "source": [
    "3/2"
   ]
  },
  {
   "cell_type": "code",
   "execution_count": 10,
   "metadata": {
    "collapsed": false
   },
   "outputs": [
    {
     "name": "stdout",
     "output_type": "stream",
     "text": [
      "이성주 평균: 84.0\n",
      "서희정 평균: 93.0\n",
      "[[75, 85], [85, 95], [92, 99]]\n",
      "80\n",
      "90\n",
      "95\n"
     ]
    }
   ],
   "source": [
    "students = [{'name': '이성주', \n",
    "             'scores': [75, 85, 92]},\n",
    "            {'name': '서희정', \n",
    "             'scores': [85, 95, 99]}\n",
    "           ]\n",
    "\n",
    "# 각 학생의 평균 점수 구하기\n",
    "for s in students:\n",
    "    avg = float(sum(s['scores']))/len(s['scores'])\n",
    "    print(s['name']+ \" 평균: \" + str(avg))\n",
    "    \n",
    "# 각 과목의 평균 점수\n",
    "subjects = [[],[],[]]\n",
    "for s in students:\n",
    "    subjects[0].append(s['scores'][0])\n",
    "    subjects[1].append(s['scores'][1])\n",
    "    subjects[2].append(s['scores'][2])\n",
    "    \n",
    "print(subjects)\n",
    "for sub in subjects:\n",
    "    print(sum(sub)/len(sub))"
   ]
  },
  {
   "cell_type": "markdown",
   "metadata": {},
   "source": [
    "## 도전과제\n",
    "\n",
    "13195를 소수 분해하면, 5, 7, 13, 29이다. 600851475143를 소수분해했을 때 가장 큰 숫자는 무엇인가?"
   ]
  },
  {
   "cell_type": "code",
   "execution_count": null,
   "metadata": {
    "collapsed": true
   },
   "outputs": [],
   "source": []
  },
  {
   "cell_type": "markdown",
   "metadata": {},
   "source": [
    "## 도전과제\n",
    "\n",
    "1001, 2002, 3003과 같은 숫자를 회문 숫자 (palindromic number)라고 한다. 두 개의 두 자리 숫자의 곱으로 만들 수 있는 가장 큰 숫자는 9009 = 91 × 99이다. \n",
    "\n",
    "두 개의 세 자리 숫자의 곱으로 만들 수 있는 가장 큰 회문 숫자를 찾아라."
   ]
  },
  {
   "cell_type": "code",
   "execution_count": 74,
   "metadata": {
    "collapsed": false
   },
   "outputs": [
    {
     "name": "stdout",
     "output_type": "stream",
     "text": [
      "906609\n"
     ]
    }
   ],
   "source": [
    "# 일단 ... 회문 숫자를 검색하는 방법부터 마련해 보자\n",
    "pn_list = []\n",
    "for n1 in range(100,1000):\n",
    "    for n2 in range(100, 1000):\n",
    "        n = n1*n2\n",
    "        # Q:회문 숫자인가?\n",
    "        # A: 유한별\n",
    "        n_str = str(n)\n",
    "        if n_str[::-1] == n_str:\n",
    "            # 회문 숫자면 추가\n",
    "            pn_list.append(n)\n",
    "\n",
    "# 추가된 회문 숫자의 최대값\n",
    "print(max(pn_list))"
   ]
  },
  {
   "cell_type": "code",
   "execution_count": null,
   "metadata": {
    "collapsed": true
   },
   "outputs": [],
   "source": []
  }
 ],
 "metadata": {
  "kernelspec": {
   "display_name": "Python 2",
   "language": "python",
   "name": "python2"
  },
  "language_info": {
   "codemirror_mode": {
    "name": "ipython",
    "version": 2
   },
   "file_extension": ".py",
   "mimetype": "text/x-python",
   "name": "python",
   "nbconvert_exporter": "python",
   "pygments_lexer": "ipython2",
   "version": "2.7.10"
  }
 },
 "nbformat": 4,
 "nbformat_minor": 0
}
