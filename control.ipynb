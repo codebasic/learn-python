{
 "cells": [
  {
   "cell_type": "markdown",
   "metadata": {},
   "source": [
    "# 반복과 제어\n",
    "\n",
    "이성주 (c) 2015"
   ]
  },
  {
   "cell_type": "code",
   "execution_count": 21,
   "metadata": {
    "collapsed": true
   },
   "outputs": [],
   "source": [
    "# 3버전 스타일 print 함수 사용\n",
    "from __future__ import print_function"
   ]
  },
  {
   "cell_type": "markdown",
   "metadata": {},
   "source": [
    "## for"
   ]
  },
  {
   "cell_type": "code",
   "execution_count": 17,
   "metadata": {
    "collapsed": false
   },
   "outputs": [
    {
     "name": "stdout",
     "output_type": "stream",
     "text": [
      "1\n",
      "2\n",
      "3\n"
     ]
    }
   ],
   "source": [
    "for n in [1,2,3]:\n",
    "    print(n)"
   ]
  },
  {
   "cell_type": "code",
   "execution_count": 19,
   "metadata": {
    "collapsed": false
   },
   "outputs": [
    {
     "name": "stdout",
     "output_type": "stream",
     "text": [
      "p:y:t:h:o:n:"
     ]
    }
   ],
   "source": [
    "for c in 'python':\n",
    "    print(c, end=':')"
   ]
  },
  {
   "cell_type": "markdown",
   "metadata": {},
   "source": [
    "### 들여쓰기와 스코프"
   ]
  },
  {
   "cell_type": "code",
   "execution_count": 3,
   "metadata": {
    "collapsed": false
   },
   "outputs": [
    {
     "name": "stdout",
     "output_type": "stream",
     "text": [
      "[1, 4, 9, 16, 25]\n"
     ]
    }
   ],
   "source": [
    "nums_square = []\n",
    "for n in [1,2,3,4,5]:\n",
    "    nums_square.append(n**2)\n",
    "print(nums_square)"
   ]
  },
  {
   "cell_type": "markdown",
   "metadata": {},
   "source": [
    "## 내장리스트 (list comprehension)"
   ]
  },
  {
   "cell_type": "markdown",
   "metadata": {},
   "source": [
    "리스트 내에서 반복문 실행"
   ]
  },
  {
   "cell_type": "code",
   "execution_count": null,
   "metadata": {
    "collapsed": true
   },
   "outputs": [],
   "source": [
    "nums_square = [n**2 for n in [1,2,3,4,5]]\n",
    "print(nums_square)"
   ]
  },
  {
   "cell_type": "markdown",
   "metadata": {},
   "source": [
    "숫자 리스트 생성 함수"
   ]
  },
  {
   "cell_type": "code",
   "execution_count": 7,
   "metadata": {
    "collapsed": false,
    "scrolled": true
   },
   "outputs": [
    {
     "data": {
      "text/plain": [
       "[0, 1, 2, 3, 4, 5, 6, 7, 8, 9]"
      ]
     },
     "execution_count": 7,
     "metadata": {},
     "output_type": "execute_result"
    }
   ],
   "source": [
    "range(10)"
   ]
  },
  {
   "cell_type": "code",
   "execution_count": 8,
   "metadata": {
    "collapsed": false
   },
   "outputs": [
    {
     "data": {
      "text/plain": [
       "[2, 3, 4, 5, 6, 7, 8, 9, 10]"
      ]
     },
     "execution_count": 8,
     "metadata": {},
     "output_type": "execute_result"
    }
   ],
   "source": [
    "range(2,11)"
   ]
  },
  {
   "cell_type": "code",
   "execution_count": 9,
   "metadata": {
    "collapsed": false
   },
   "outputs": [
    {
     "data": {
      "text/plain": [
       "[1, 3, 5, 7, 9]"
      ]
     },
     "execution_count": 9,
     "metadata": {},
     "output_type": "execute_result"
    }
   ],
   "source": [
    "range(1,11,2)"
   ]
  },
  {
   "cell_type": "markdown",
   "metadata": {},
   "source": [
    "특정 횟수 반복"
   ]
  },
  {
   "cell_type": "code",
   "execution_count": 5,
   "metadata": {
    "collapsed": false
   },
   "outputs": [
    {
     "name": "stdout",
     "output_type": "stream",
     "text": [
      "참 잘했어요!\n",
      "참 잘했어요!\n",
      "참 잘했어요!\n"
     ]
    }
   ],
   "source": [
    "for x in range(3):\n",
    "    print('참 잘했어요!')"
   ]
  },
  {
   "cell_type": "markdown",
   "metadata": {},
   "source": [
    "인덱스가 필요한 경우"
   ]
  },
  {
   "cell_type": "code",
   "execution_count": 6,
   "metadata": {
    "collapsed": false
   },
   "outputs": [
    {
     "name": "stdout",
     "output_type": "stream",
     "text": [
      "1 참 잘했어요!\n",
      "2 참 잘했어요!\n",
      "3 참 잘했어요!\n"
     ]
    }
   ],
   "source": [
    "for i, x in enumerate(range(3)):\n",
    "    print i+1, '참 잘했어요!'"
   ]
  },
  {
   "cell_type": "markdown",
   "metadata": {},
   "source": [
    "##while"
   ]
  },
  {
   "cell_type": "code",
   "execution_count": 20,
   "metadata": {
    "collapsed": false
   },
   "outputs": [
    {
     "name": "stdout",
     "output_type": "stream",
     "text": [
      "1\n",
      "2\n"
     ]
    }
   ],
   "source": [
    "x=1\n",
    "while x < 3:\n",
    "    print(x)\n",
    "    x += 1"
   ]
  },
  {
   "cell_type": "code",
   "execution_count": 14,
   "metadata": {
    "collapsed": false
   },
   "outputs": [
    {
     "name": "stdout",
     "output_type": "stream",
     "text": [
      "I love you\n"
     ]
    }
   ],
   "source": [
    "isTrueLove = True\n",
    "while isTrueLove:\n",
    "    print(\"I love you\")\n",
    "    break"
   ]
  },
  {
   "cell_type": "markdown",
   "metadata": {},
   "source": [
    "## 도전과제\n",
    "\n",
    "포커 카드는 52장이다. 각 카드는 문양(suit)와 숫자(rank)로 이루어진다. 문양은 Diamond, Heart, Spade, Clover 4 종류이고, 숫자는 2, 3, … , 9, 10, J, Q, K, A의 13개의 값이다. 52장의 포커 카드를 생성해 변수 deck에 저장하시오.\n",
    "\n",
    "\n",
    "예: ‘Diamond 3’, ‘Heart Q’\n",
    "\n",
    "a. 각 포커 카드의 정보를 문자열 형태로 저장하시오. \n",
    "\n",
    "b. 각 포커 카드 정보를 리스트 자료 구조로 저장하시오. 예: [‘Diamond’, 3], [‘Heart’, ‘Q’]\n",
    "\n",
    "c. 한 줄의 구문으로 전체 포커 카드를 생성하시오."
   ]
  },
  {
   "cell_type": "code",
   "execution_count": 22,
   "metadata": {
    "collapsed": false
   },
   "outputs": [
    {
     "name": "stdout",
     "output_type": "stream",
     "text": [
      "2\n",
      "3\n",
      "4\n",
      "5\n",
      "6\n"
     ]
    }
   ],
   "source": [
    "suits = ['Heart', 'Diamond', 'Clover', 'Spade']\n",
    "ranks = range(2,11)+['J', 'Q', 'K', 'A']\n",
    "deck = []\n",
    "for s in suits:\n",
    "    for r in ranks:\n",
    "        card = [s, r]\n",
    "        deck.append(card)\n",
    "\n",
    "#print(deck)\n",
    "\n",
    "# 덱에 저장된 카드에서 숫자 정보를 추출\n",
    "for card in deck[:5]:\n",
    "    print(card[1])"
   ]
  },
  {
   "cell_type": "code",
   "execution_count": 24,
   "metadata": {
    "collapsed": false
   },
   "outputs": [
    {
     "data": {
      "text/plain": [
       "52"
      ]
     },
     "execution_count": 24,
     "metadata": {},
     "output_type": "execute_result"
    }
   ],
   "source": [
    "deck = [[s,r] for s in ['Heart', 'Diamond', 'Spade', 'Clover'] for r in range(2,11)+['J','Q','K', 'A']]\n",
    "len(deck)"
   ]
  },
  {
   "cell_type": "markdown",
   "metadata": {},
   "source": [
    "## 도전과제\n",
    "6면 주사위는 1부터 6까지의 값을 갖는다. 주사위를 굴릴 때 나온 윗면의 숫자의 누적 합계를 구한다. 누적 합계가 100 이상이 될 때까지 몇 번을 던졌는지를 표시하는 프로그램을 작성한다. [a, b] 구간에서 무작위 숫자를 구하는 구문은 다음과 같다.\n",
    "\t\n",
    "    import random\n",
    "    # 0 이상 1 이하의 무작위 정수 생성\n",
    "\tn = random.randint(0, 1) "
   ]
  },
  {
   "cell_type": "code",
   "execution_count": 25,
   "metadata": {
    "collapsed": false
   },
   "outputs": [
    {
     "name": "stdout",
     "output_type": "stream",
     "text": [
      "던진 횟수: 28\n"
     ]
    }
   ],
   "source": [
    "import random\n",
    "total = 0\n",
    "count = 0 # 던진 횟수\n",
    "while total < 100:\n",
    "    # 주사위 윗면값 구하기\n",
    "    face = random.randint(1,6)\n",
    "    # 주사위 윗면값을 누적합계에 반영\n",
    "    total += face\n",
    "    # 던진 횟수 증가\n",
    "    count += 1\n",
    "\n",
    "print(\"던진 횟수: \"+ str(count))"
   ]
  },
  {
   "cell_type": "markdown",
   "metadata": {},
   "source": [
    "# 제어"
   ]
  },
  {
   "cell_type": "code",
   "execution_count": 15,
   "metadata": {
    "collapsed": false
   },
   "outputs": [
    {
     "name": "stdout",
     "output_type": "stream",
     "text": [
      "apple\n"
     ]
    }
   ],
   "source": [
    "x = 10\n",
    "if x < 5:\n",
    "    fruit = 'banana'\n",
    "else:\n",
    "    fruit = 'apple'\n",
    "\n",
    "print(fruit)"
   ]
  },
  {
   "cell_type": "code",
   "execution_count": 16,
   "metadata": {
    "collapsed": false
   },
   "outputs": [
    {
     "name": "stdout",
     "output_type": "stream",
     "text": [
      "Good afternoon\n"
     ]
    }
   ],
   "source": [
    "hour = 13\n",
    "greeting = 'Good'\n",
    "if 5 < hour < 12:\n",
    "    # 아침인사\n",
    "    greeting += ' morning'\n",
    "elif 12 <= hour < 18:\n",
    "    greeting += ' afternoon'\n",
    "else:\n",
    "    greeting += ' night!'\n",
    "\n",
    "print(greeting)"
   ]
  },
  {
   "cell_type": "markdown",
   "metadata": {},
   "source": [
    "# 도전과제\n",
    "\n",
    "3-6-9 게임\n",
    "\n",
    "1부터 시작해 1씩 숫자가 증가한다. 숫자에 3,6,9가 하나 이상 있으면 숫자 대신 '짝!'을 출력한다.\n",
    "\n",
    "출력 예시: 1 2 짝! 4 5 짝! 7 8 짝!"
   ]
  },
  {
   "cell_type": "code",
   "execution_count": null,
   "metadata": {
    "collapsed": true
   },
   "outputs": [],
   "source": []
  }
 ],
 "metadata": {
  "kernelspec": {
   "display_name": "Python 2",
   "language": "python",
   "name": "python2"
  },
  "language_info": {
   "codemirror_mode": {
    "name": "ipython",
    "version": 2
   },
   "file_extension": ".py",
   "mimetype": "text/x-python",
   "name": "python",
   "nbconvert_exporter": "python",
   "pygments_lexer": "ipython2",
   "version": "2.7.10"
  }
 },
 "nbformat": 4,
 "nbformat_minor": 0
}
