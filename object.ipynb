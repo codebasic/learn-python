{
 "cells": [
  {
   "cell_type": "code",
   "execution_count": 4,
   "metadata": {
    "collapsed": false
   },
   "outputs": [
    {
     "data": {
      "text/plain": [
       "4366758472"
      ]
     },
     "execution_count": 4,
     "metadata": {},
     "output_type": "execute_result"
    }
   ],
   "source": [
    "id([1,2,3])"
   ]
  },
  {
   "cell_type": "code",
   "execution_count": 44,
   "metadata": {
    "collapsed": true
   },
   "outputs": [],
   "source": [
    "class Person:\n",
    "    nationality = '대한민국'"
   ]
  },
  {
   "cell_type": "code",
   "execution_count": 45,
   "metadata": {
    "collapsed": false
   },
   "outputs": [
    {
     "name": "stdout",
     "output_type": "stream",
     "text": [
      "p1의 국적: 대한민국\n",
      "p2의 국적: 대한민국\n"
     ]
    }
   ],
   "source": [
    "p1 = Person()\n",
    "p2 = Person()\n",
    "\n",
    "print('{}의 국적: {}'.format('p1', p1.nationality))\n",
    "print('{}의 국적: {}'.format('p2', p2.nationality))"
   ]
  },
  {
   "cell_type": "code",
   "execution_count": 46,
   "metadata": {
    "collapsed": false
   },
   "outputs": [
    {
     "name": "stdout",
     "output_type": "stream",
     "text": [
      "p1의 국적: 중국\n",
      "p2의 국적: 중국\n"
     ]
    }
   ],
   "source": [
    "Person.nationality = '중국'\n",
    "\n",
    "print('{}의 국적: {}'.format('p1', p1.nationality))\n",
    "print('{}의 국적: {}'.format('p2', p2.nationality))"
   ]
  },
  {
   "cell_type": "code",
   "execution_count": 47,
   "metadata": {
    "collapsed": false
   },
   "outputs": [
    {
     "name": "stdout",
     "output_type": "stream",
     "text": [
      "p1의 국적: 일본\n",
      "p2의 국적: 일본\n"
     ]
    }
   ],
   "source": [
    "Person.nationality = '일본'\n",
    "\n",
    "print('{}의 국적: {}'.format('p1', p1.nationality))\n",
    "print('{}의 국적: {}'.format('p2', p2.nationality))"
   ]
  },
  {
   "cell_type": "code",
   "execution_count": 49,
   "metadata": {
    "collapsed": false
   },
   "outputs": [],
   "source": [
    "class Person:\n",
    "    def __init__(self, name, nationality):\n",
    "        self.name = name\n",
    "        self.nationality = nationality"
   ]
  },
  {
   "cell_type": "code",
   "execution_count": 50,
   "metadata": {
    "collapsed": false
   },
   "outputs": [],
   "source": [
    "# 같은 종류의 정보로 구성된 여러 개의 정보 생성\n",
    "p1 = Person('이성주', '대한민국')\n",
    "p2 = Person('토니 스타크', 'USA')\n",
    "p3 = Person('클라크 켄트', 'USA')"
   ]
  },
  {
   "cell_type": "code",
   "execution_count": 55,
   "metadata": {
    "collapsed": false
   },
   "outputs": [
    {
     "name": "stdout",
     "output_type": "stream",
     "text": [
      "이성주(대한민국)\n",
      "토니 스타크(USA)\n",
      "클라크 켄트(크립톤)\n"
     ]
    }
   ],
   "source": [
    "p3.nationality = '크립톤'\n",
    "for p in [p1, p2, p3]:\n",
    "    print('{}({})'.format(p.name, p.nationality))"
   ]
  },
  {
   "cell_type": "code",
   "execution_count": 61,
   "metadata": {
    "collapsed": true
   },
   "outputs": [],
   "source": [
    "class Person:\n",
    "    def __init__(self, name, nationality):\n",
    "        self.name = name\n",
    "        self.nationality = nationality\n",
    "    \n",
    "    def say_name(self):\n",
    "        print('이름: {}'.format(self.name))"
   ]
  },
  {
   "cell_type": "code",
   "execution_count": 62,
   "metadata": {
    "collapsed": true
   },
   "outputs": [],
   "source": [
    "p1 = Person('이성주', '대한민국')\n",
    "p2 = Person('토니 스타크', 'USA')\n",
    "p3 = Person('클라크 켄트', '크립톤')"
   ]
  },
  {
   "cell_type": "code",
   "execution_count": 63,
   "metadata": {
    "collapsed": false
   },
   "outputs": [
    {
     "name": "stdout",
     "output_type": "stream",
     "text": [
      "이름: 이성주\n",
      "이름: 토니 스타크\n",
      "이름: 클라크 켄트\n"
     ]
    }
   ],
   "source": [
    "for p in [p1, p2, p3]:\n",
    "    p.say_name()"
   ]
  },
  {
   "cell_type": "code",
   "execution_count": 70,
   "metadata": {
    "collapsed": true
   },
   "outputs": [],
   "source": [
    "class Person:\n",
    "    number_of_people = 0\n",
    "    def __init__(self, name, nationality):\n",
    "        self.name = name\n",
    "        self.nationality = nationality\n",
    "        Person.number_of_people += 1\n",
    "    \n",
    "    def say_name(self):\n",
    "        print('이름: {}'.format(self.name))"
   ]
  },
  {
   "cell_type": "code",
   "execution_count": 71,
   "metadata": {
    "collapsed": false
   },
   "outputs": [],
   "source": [
    "p1 = Person('이성주', '대한민국')\n",
    "p2 = Person('토니 스타크', 'USA')\n",
    "p3 = Person('클라크 켄트', '크립톤')"
   ]
  },
  {
   "cell_type": "markdown",
   "metadata": {},
   "source": [
    "# 클래스 영역과 객체 영역의 차이"
   ]
  },
  {
   "cell_type": "code",
   "execution_count": 72,
   "metadata": {
    "collapsed": false
   },
   "outputs": [
    {
     "name": "stdout",
     "output_type": "stream",
     "text": [
      "3\n"
     ]
    }
   ],
   "source": [
    "print(Person.number_of_people)"
   ]
  },
  {
   "cell_type": "code",
   "execution_count": 73,
   "metadata": {
    "collapsed": false
   },
   "outputs": [
    {
     "name": "stdout",
     "output_type": "stream",
     "text": [
      "3\n"
     ]
    }
   ],
   "source": [
    "print(p1.number_of_people)"
   ]
  },
  {
   "cell_type": "code",
   "execution_count": 74,
   "metadata": {
    "collapsed": false
   },
   "outputs": [
    {
     "name": "stdout",
     "output_type": "stream",
     "text": [
      "4\n"
     ]
    }
   ],
   "source": [
    "Person.number_of_people += 1\n",
    "print(Person.number_of_people)"
   ]
  },
  {
   "cell_type": "code",
   "execution_count": 75,
   "metadata": {
    "collapsed": false
   },
   "outputs": [
    {
     "name": "stdout",
     "output_type": "stream",
     "text": [
      "5\n"
     ]
    }
   ],
   "source": [
    "p1.number_of_people += 1\n",
    "print(p1.number_of_people)"
   ]
  },
  {
   "cell_type": "code",
   "execution_count": 77,
   "metadata": {
    "collapsed": false
   },
   "outputs": [
    {
     "name": "stdout",
     "output_type": "stream",
     "text": [
      "4\n",
      "0\n"
     ]
    }
   ],
   "source": [
    "p1.number_of_people = 0\n",
    "print(Person.number_of_people)\n",
    "print(p1.number_of_people)"
   ]
  },
  {
   "cell_type": "markdown",
   "metadata": {},
   "source": [
    "# 다형성과 Duck Type"
   ]
  },
  {
   "cell_type": "code",
   "execution_count": 1,
   "metadata": {
    "collapsed": true
   },
   "outputs": [],
   "source": [
    "class Dog:\n",
    "    def eat(self):\n",
    "        print('낼름낼름')\n",
    "\n",
    "class Cat:\n",
    "    def eat(self):\n",
    "        print('홀짝홀짝')\n",
    "\n",
    "class Person:\n",
    "    def eat(self):\n",
    "        print('얌얌')"
   ]
  },
  {
   "cell_type": "code",
   "execution_count": 2,
   "metadata": {
    "collapsed": true
   },
   "outputs": [],
   "source": [
    "def dine(animal):\n",
    "    animal.eat()"
   ]
  },
  {
   "cell_type": "code",
   "execution_count": 3,
   "metadata": {
    "collapsed": false
   },
   "outputs": [
    {
     "name": "stdout",
     "output_type": "stream",
     "text": [
      "낼름낼름\n",
      "홀짝홀짝\n",
      "얌얌\n"
     ]
    }
   ],
   "source": [
    "dog = Dog()\n",
    "cat = Cat()\n",
    "me = Person()\n",
    "\n",
    "dine(dog)\n",
    "dine(cat)\n",
    "dine(me)"
   ]
  },
  {
   "cell_type": "markdown",
   "metadata": {},
   "source": [
    "질문: 자료형을 지정하지 않는데 부적절한 형태의 입력이 들어오면 문제가 되지 않나요?\n",
    "\n",
    "SJ: 네, 문제가 생깁니다."
   ]
  },
  {
   "cell_type": "code",
   "execution_count": 4,
   "metadata": {
    "collapsed": true
   },
   "outputs": [],
   "source": [
    "class Alien:\n",
    "    def inhale(self):\n",
    "        print('우리는 정기를 빨아들인다.')"
   ]
  },
  {
   "cell_type": "code",
   "execution_count": 5,
   "metadata": {
    "collapsed": false
   },
   "outputs": [
    {
     "ename": "AttributeError",
     "evalue": "Alien instance has no attribute 'eat'",
     "output_type": "error",
     "traceback": [
      "\u001b[0;31m---------------------------------------------------------------------------\u001b[0m",
      "\u001b[0;31mAttributeError\u001b[0m                            Traceback (most recent call last)",
      "\u001b[0;32m<ipython-input-5-785769037d45>\u001b[0m in \u001b[0;36m<module>\u001b[0;34m()\u001b[0m\n\u001b[1;32m      1\u001b[0m \u001b[0malien\u001b[0m \u001b[0;34m=\u001b[0m \u001b[0mAlien\u001b[0m\u001b[0;34m(\u001b[0m\u001b[0;34m)\u001b[0m\u001b[0;34m\u001b[0m\u001b[0m\n\u001b[0;32m----> 2\u001b[0;31m \u001b[0mdine\u001b[0m\u001b[0;34m(\u001b[0m\u001b[0malien\u001b[0m\u001b[0;34m)\u001b[0m\u001b[0;34m\u001b[0m\u001b[0m\n\u001b[0m",
      "\u001b[0;32m<ipython-input-2-ee08785b1d1c>\u001b[0m in \u001b[0;36mdine\u001b[0;34m(animal)\u001b[0m\n\u001b[1;32m      1\u001b[0m \u001b[0;32mdef\u001b[0m \u001b[0mdine\u001b[0m\u001b[0;34m(\u001b[0m\u001b[0manimal\u001b[0m\u001b[0;34m)\u001b[0m\u001b[0;34m:\u001b[0m\u001b[0;34m\u001b[0m\u001b[0m\n\u001b[0;32m----> 2\u001b[0;31m     \u001b[0manimal\u001b[0m\u001b[0;34m.\u001b[0m\u001b[0meat\u001b[0m\u001b[0;34m(\u001b[0m\u001b[0;34m)\u001b[0m\u001b[0;34m\u001b[0m\u001b[0m\n\u001b[0m",
      "\u001b[0;31mAttributeError\u001b[0m: Alien instance has no attribute 'eat'"
     ]
    }
   ],
   "source": [
    "alien = Alien()\n",
    "dine(alien) # Attribute 오류 발생!"
   ]
  },
  {
   "cell_type": "markdown",
   "metadata": {},
   "source": [
    "## Duck Typing\n",
    "\"오리처럼 걷고, 오리처럼 울면 오리\"\n",
    "\n",
    "질문: 그럼 자료형을 지정하지 않는 파이썬 같은 프로그래밍 언어는 안전하지 않은가요?\n",
    "\n",
    "SJ: 자료형을 지정하는 언어와 입력을 확인하는 방법이 다를 뿐이다. 자료형을 확인하는 것은 수단일 뿐 목적이 아님. 자료형을 확인 대신 예외처리를 적용."
   ]
  },
  {
   "cell_type": "code",
   "execution_count": 6,
   "metadata": {
    "collapsed": true
   },
   "outputs": [],
   "source": [
    "def dine(animal):\n",
    "    try:\n",
    "        animal.eat()\n",
    "    except AttributeError as ex:\n",
    "        print('먹는게 뭔가요?')"
   ]
  },
  {
   "cell_type": "code",
   "execution_count": 7,
   "metadata": {
    "collapsed": false
   },
   "outputs": [
    {
     "name": "stdout",
     "output_type": "stream",
     "text": [
      "먹는게 뭔가요?\n"
     ]
    }
   ],
   "source": [
    "alien = Alien()\n",
    "dine(alien)"
   ]
  },
  {
   "cell_type": "markdown",
   "metadata": {},
   "source": [
    "# 상속"
   ]
  },
  {
   "cell_type": "code",
   "execution_count": 1,
   "metadata": {
    "collapsed": true
   },
   "outputs": [],
   "source": [
    "a_list = [1,2,3]"
   ]
  },
  {
   "cell_type": "code",
   "execution_count": 2,
   "metadata": {
    "collapsed": false
   },
   "outputs": [
    {
     "data": {
      "text/plain": [
       "True"
      ]
     },
     "execution_count": 2,
     "metadata": {},
     "output_type": "execute_result"
    }
   ],
   "source": [
    "isinstance(a_list, list)"
   ]
  },
  {
   "cell_type": "code",
   "execution_count": 3,
   "metadata": {
    "collapsed": false
   },
   "outputs": [
    {
     "data": {
      "text/plain": [
       "False"
      ]
     },
     "execution_count": 3,
     "metadata": {},
     "output_type": "execute_result"
    }
   ],
   "source": [
    "isinstance(a_list, dict)"
   ]
  },
  {
   "cell_type": "markdown",
   "metadata": {
    "collapsed": true
   },
   "source": [
    "## 도전과제\n",
    "\n",
    "리스트, 문자열과 같은 시퀀스를 인자로 받아 무작위로 섞어서 반환하는 함수 shuffle_up를 정의하시오. 함수 내에서 random 모듈을 사용하시오.\n",
    "\n",
    "예: \n",
    "    \n",
    "    \n",
    "    shuffled = shuffle_up([1,2,3])\n",
    "    print(shuffled) # [3,1,2]\n",
    "    shuffled = shuffle_up('파이썬')\n",
    "    print(shuffled) # 썬파이"
   ]
  },
  {
   "cell_type": "code",
   "execution_count": 6,
   "metadata": {
    "collapsed": false
   },
   "outputs": [
    {
     "name": "stdout",
     "output_type": "stream",
     "text": [
      "[6, 7, 1, 8, 4, 3, 5, 2]\n",
      "�쬍��!���총���봄���� ��\n",
      "서은썬쉽 !이파다면\n"
     ]
    }
   ],
   "source": [
    "import random\n",
    "import string\n",
    "\n",
    "def shuffle_up(input_seq):\n",
    "    if isinstance(input_seq, basestring):\n",
    "        result = list(input_seq)\n",
    "        random.shuffle(result)\n",
    "        return string.join(result, '')\n",
    "    else:\n",
    "        result = input_seq[:]\n",
    "        random.shuffle(result)\n",
    "        return result\n",
    "\n",
    "result = shuffle_up([1,2,3,4,5,6,7,8])\n",
    "print(result)\n",
    "\n",
    "result = shuffle_up('파이썬은 쉽다면서!')\n",
    "print(result)\n",
    "\n",
    "result = shuffle_up(u'파이썬은 쉽다면서!')\n",
    "print(result)"
   ]
  },
  {
   "cell_type": "code",
   "execution_count": null,
   "metadata": {
    "collapsed": true
   },
   "outputs": [],
   "source": []
  }
 ],
 "metadata": {
  "kernelspec": {
   "display_name": "Python 2",
   "language": "python",
   "name": "python2"
  },
  "language_info": {
   "codemirror_mode": {
    "name": "ipython",
    "version": 2
   },
   "file_extension": ".py",
   "mimetype": "text/x-python",
   "name": "python",
   "nbconvert_exporter": "python",
   "pygments_lexer": "ipython2",
   "version": "2.7.10"
  }
 },
 "nbformat": 4,
 "nbformat_minor": 0
}
